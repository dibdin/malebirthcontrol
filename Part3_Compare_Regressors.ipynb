{
  "nbformat": 4,
  "nbformat_minor": 0,
  "metadata": {
    "colab": {
      "name": "Part3: Compare Regressors",
      "provenance": [],
      "collapsed_sections": [],
      "include_colab_link": true
    },
    "kernelspec": {
      "name": "python3",
      "display_name": "Python 3"
    }
  },
  "cells": [
    {
      "cell_type": "markdown",
      "metadata": {
        "id": "view-in-github",
        "colab_type": "text"
      },
      "source": [
        "<a href=\"https://colab.research.google.com/github/dibdin/malebirthcontrol/blob/main/Part3_Compare_Regressors.ipynb\" target=\"_parent\"><img src=\"https://colab.research.google.com/assets/colab-badge.svg\" alt=\"Open In Colab\"/></a>"
      ]
    },
    {
      "cell_type": "markdown",
      "metadata": {
        "id": "xNq-XQWWYNXh"
      },
      "source": [
        "# **Bioinformatics Project - Computational Drug Discovery [Part 3] Comparing Regressors**\n",
        "\n",
        "original code credit: Chanin Nantasenamat\n",
        "\n",
        "['Data Professor' YouTube channel](http://youtube.com/dataprofessor)\n",
        "\n"
      ]
    },
    {
      "cell_type": "markdown",
      "metadata": {
        "id": "OnVZXG7QY1D2"
      },
      "source": [
        "## **1. Import libraries**"
      ]
    },
    {
      "cell_type": "code",
      "metadata": {
        "id": "B4i2iuTlZYvQ"
      },
      "source": [
        "! pip install lazypredict"
      ],
      "execution_count": null,
      "outputs": []
    },
    {
      "cell_type": "code",
      "metadata": {
        "id": "Vf73M_f9XwZ7"
      },
      "source": [
        "\n",
        "import pandas as pd\n",
        "\n",
        "import seaborn as sns\n",
        "from sklearn.model_selection import train_test_split\n",
        "import lazypredict\n",
        "from lazypredict.Supervised import LazyRegressor"
      ],
      "execution_count": null,
      "outputs": []
    },
    {
      "cell_type": "markdown",
      "metadata": {
        "id": "lUGwBVH7Y8Rq"
      },
      "source": [
        "## **2. Load the data set**\n"
      ]
    },
    {
      "cell_type": "code",
      "metadata": {
        "id": "Oiess4VaZChk"
      },
      "source": [
        "! wget https://raw.githubusercontent.com/dibdin/malebirthcontrol/main/bioactivity_data_spem1_correct_combined_pubchem_fp.csv"
      ],
      "execution_count": null,
      "outputs": []
    },
    {
      "cell_type": "code",
      "metadata": {
        "id": "WVojHjyWZC9D"
      },
      "source": [
        "df = pd.read_csv('bioactivity_data_spem1_correct_combined_pubchem_fp.csv')"
      ],
      "execution_count": null,
      "outputs": []
    },
    {
      "cell_type": "code",
      "metadata": {
        "id": "KbTq4zzKZpVf"
      },
      "source": [
        "X = df.drop('pIC50', axis=1)\n",
        "Y = df.pIC50"
      ],
      "execution_count": null,
      "outputs": []
    },
    {
      "cell_type": "markdown",
      "metadata": {
        "id": "7Qa6WSGGZ39n"
      },
      "source": [
        "## **3. Data pre-processing**"
      ]
    },
    {
      "cell_type": "code",
      "metadata": {
        "id": "CtC4SWpBaCVQ"
      },
      "source": [
        "# Examine X dimension\n",
        "X.shape"
      ],
      "execution_count": null,
      "outputs": []
    },
    {
      "cell_type": "code",
      "metadata": {
        "id": "mVHzT2f5Z8sF"
      },
      "source": [
        "# Remove low variance features\n",
        "from sklearn.feature_selection import VarianceThreshold\n",
        "selection = VarianceThreshold(threshold=(.8 * (1 - .8)))    \n",
        "X = selection.fit_transform(X)\n",
        "X.shape"
      ],
      "execution_count": null,
      "outputs": []
    },
    {
      "cell_type": "code",
      "metadata": {
        "id": "MYck-_XeaHNZ"
      },
      "source": [
        "# Perform data splitting using 80/20 ratio\n",
        "X_train, X_test, Y_train, Y_test = train_test_split(X, Y, test_size=0.2)"
      ],
      "execution_count": null,
      "outputs": []
    },
    {
      "cell_type": "markdown",
      "metadata": {
        "id": "zkW9nKohamEj"
      },
      "source": [
        "## **4. Compare ML algorithms**"
      ]
    },
    {
      "cell_type": "code",
      "metadata": {
        "id": "nnFbUjA1aUj1"
      },
      "source": [
        "# Defines and builds the lazyclassifier\n",
        "clf = LazyRegressor(verbose=0,ignore_warnings=True, custom_metric=None)\n",
        "train,test = clf.fit(X_train, X_test, Y_train, Y_test)"
      ],
      "execution_count": null,
      "outputs": []
    },
    {
      "cell_type": "code",
      "metadata": {
        "id": "BY38N24CA6r3"
      },
      "source": [
        "# Performance table of the training set (80% subset)\n",
        "train"
      ],
      "execution_count": null,
      "outputs": []
    },
    {
      "cell_type": "code",
      "metadata": {
        "id": "9ijCLezLA7YB"
      },
      "source": [
        "# Performance table of the test set (20% subset)\n",
        "test"
      ],
      "execution_count": null,
      "outputs": []
    },
    {
      "cell_type": "markdown",
      "metadata": {
        "id": "ygbUem-0A6XD"
      },
      "source": [
        ""
      ]
    },
    {
      "cell_type": "markdown",
      "metadata": {
        "id": "cHOFkp-ka5tF"
      },
      "source": [
        "# models_train,predictions_train = clf.fit(X_train, X_train, Y_train, Y_train)\n",
        "models_test,predictions_test = clf.fit(X_train, X_test, Y_train, Y_test)\n",
        "clf.fit(X_train, Y_train, X_test, Y_test)\n",
        "\n",
        "predictions_train"
      ]
    },
    {
      "cell_type": "code",
      "metadata": {
        "id": "KP6qT55ebcfd"
      },
      "source": [
        "# Performance table of the test set (20% subset)\n",
        "predictions_test"
      ],
      "execution_count": null,
      "outputs": []
    },
    {
      "cell_type": "markdown",
      "metadata": {
        "id": "CM-lcHz6byNz"
      },
      "source": [
        "## **5. Data visualization of model performance**"
      ]
    },
    {
      "cell_type": "code",
      "metadata": {
        "id": "MLsi5uSvbpC7"
      },
      "source": [
        "# Bar plot of R-squared values\n",
        "import matplotlib.pyplot as plt\n",
        "import seaborn as sns\n",
        "\n",
        "#train[\"R-Squared\"] = [0 if i < 0 else i for i in train.iloc[:,0] ]\n",
        "\n",
        "plt.figure(figsize=(5, 10))\n",
        "sns.set_theme(style=\"whitegrid\")\n",
        "ax = sns.barplot(y=train.index, x=\"R-Squared\", data=train)\n",
        "ax.set(xlim=(0, 1))"
      ],
      "execution_count": null,
      "outputs": []
    },
    {
      "cell_type": "code",
      "metadata": {
        "id": "OLkiiTTwb-Cb"
      },
      "source": [
        "# Bar plot of RMSE values\n",
        "import matplotlib.pyplot as plt\n",
        "import seaborn as sns\n",
        "\n",
        "plt.figure(figsize=(5, 10))\n",
        "sns.set_theme(style=\"whitegrid\")\n",
        "ax = sns.barplot(y=train.index, x=\"RMSE\", data=train)\n",
        "ax.set(xlim=(0, 10))"
      ],
      "execution_count": null,
      "outputs": []
    },
    {
      "cell_type": "code",
      "metadata": {
        "id": "pCdcxpzScqXX"
      },
      "source": [
        "# Bar plot of calculation time\n",
        "import matplotlib.pyplot as plt\n",
        "import seaborn as sns\n",
        "\n",
        "plt.figure(figsize=(5, 10))\n",
        "sns.set_theme(style=\"whitegrid\")\n",
        "ax = sns.barplot(y=train.index, x=\"Time Taken\", data=train)\n",
        "ax.set(xlim=(0, 10))"
      ],
      "execution_count": null,
      "outputs": []
    }
  ]
}