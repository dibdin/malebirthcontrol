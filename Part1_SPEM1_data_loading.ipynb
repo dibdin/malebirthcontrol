{
  "nbformat": 4,
  "nbformat_minor": 0,
  "metadata": {
    "colab": {
      "name": "Part1: SPEM1 data loading",
      "provenance": [],
      "collapsed_sections": [],
      "include_colab_link": true
    },
    "kernelspec": {
      "display_name": "Python 3",
      "name": "python3"
    }
  },
  "cells": [
    {
      "cell_type": "markdown",
      "metadata": {
        "id": "view-in-github",
        "colab_type": "text"
      },
      "source": [
        "<a href=\"https://colab.research.google.com/github/dibdin/malebirthcontrol/blob/main/Part1_SPEM1_data_loading.ipynb\" target=\"_parent\"><img src=\"https://colab.research.google.com/assets/colab-badge.svg\" alt=\"Open In Colab\"/></a>"
      ]
    },
    {
      "cell_type": "markdown",
      "metadata": {
        "id": "wSFbIMb87cHu"
      },
      "source": [
        "# **Computational Drug Discovery [Part 1] Download Bioactivity Data**\n",
        "\n",
        "Original code credit: Chanin Nantasenamat\n",
        "\n",
        "[*'Data Professor' YouTube channel*](http://youtube.com/dataprofessor)\n",
        "\n",
        "\n",
        "---"
      ]
    },
    {
      "cell_type": "markdown",
      "metadata": {
        "id": "3iQiERxumDor"
      },
      "source": [
        "## **ChEMBL Database**\n",
        "\n",
        "The [*ChEMBL Database*](https://www.ebi.ac.uk/chembl/) is a database that contains curated bioactivity data of more than 2 million compounds. It is compiled from more than 76,000 documents, 1.2 million assays and the data spans 13,000 targets and 1,800 cells and 33,000 indications.\n",
        "[Data as of March 25, 2020; ChEMBL version 26]."
      ]
    },
    {
      "cell_type": "markdown",
      "metadata": {
        "id": "iryGAwAIQ4yf"
      },
      "source": [
        "## **Installing libraries**"
      ]
    },
    {
      "cell_type": "markdown",
      "metadata": {
        "id": "toGT1U_B7F2i"
      },
      "source": [
        "Install the ChEMBL web service package so that we can retrieve bioactivity data from the ChEMBL Database."
      ]
    },
    {
      "cell_type": "code",
      "metadata": {
        "colab": {
          "background_save": true,
          "base_uri": "https://localhost:8080/"
        },
        "id": "cJGExHQBfLh7",
        "outputId": "4f8b69d8-bddc-41c1-82e7-619574469659"
      },
      "source": [
        "! pip install chembl_webresource_client"
      ],
      "execution_count": null,
      "outputs": [
        {
          "name": "stdout",
          "output_type": "stream",
          "text": [
            "Requirement already satisfied: chembl_webresource_client in /usr/local/lib/python3.7/dist-packages (0.10.7)\n",
            "Requirement already satisfied: requests>=2.18.4 in /usr/local/lib/python3.7/dist-packages (from chembl_webresource_client) (2.23.0)\n",
            "Requirement already satisfied: requests-cache~=0.7.0 in /usr/local/lib/python3.7/dist-packages (from chembl_webresource_client) (0.7.5)\n",
            "Requirement already satisfied: easydict in /usr/local/lib/python3.7/dist-packages (from chembl_webresource_client) (1.9)\n",
            "Requirement already satisfied: urllib3 in /usr/local/lib/python3.7/dist-packages (from chembl_webresource_client) (1.24.3)\n",
            "Requirement already satisfied: chardet<4,>=3.0.2 in /usr/local/lib/python3.7/dist-packages (from requests>=2.18.4->chembl_webresource_client) (3.0.4)\n",
            "Requirement already satisfied: idna<3,>=2.5 in /usr/local/lib/python3.7/dist-packages (from requests>=2.18.4->chembl_webresource_client) (2.10)\n",
            "Requirement already satisfied: certifi>=2017.4.17 in /usr/local/lib/python3.7/dist-packages (from requests>=2.18.4->chembl_webresource_client) (2021.5.30)\n",
            "Requirement already satisfied: itsdangerous>=2.0.1 in /usr/local/lib/python3.7/dist-packages (from requests-cache~=0.7.0->chembl_webresource_client) (2.0.1)\n",
            "Requirement already satisfied: url-normalize<2.0,>=1.4 in /usr/local/lib/python3.7/dist-packages (from requests-cache~=0.7.0->chembl_webresource_client) (1.4.3)\n",
            "Requirement already satisfied: pyyaml>=5.4 in /usr/local/lib/python3.7/dist-packages (from requests-cache~=0.7.0->chembl_webresource_client) (6.0)\n",
            "Requirement already satisfied: attrs<22.0,>=21.2 in /usr/local/lib/python3.7/dist-packages (from requests-cache~=0.7.0->chembl_webresource_client) (21.2.0)\n",
            "Requirement already satisfied: six in /usr/local/lib/python3.7/dist-packages (from url-normalize<2.0,>=1.4->requests-cache~=0.7.0->chembl_webresource_client) (1.15.0)\n"
          ]
        }
      ]
    },
    {
      "cell_type": "markdown",
      "metadata": {
        "id": "J0kJjL8gb5nX"
      },
      "source": [
        "## **Importing libraries**"
      ]
    },
    {
      "cell_type": "code",
      "metadata": {
        "id": "RXoCvMPPfNrv"
      },
      "source": [
        "# Import necessary libraries\n",
        "import pandas as pd\n",
        "from chembl_webresource_client.new_client import new_client"
      ],
      "execution_count": null,
      "outputs": []
    },
    {
      "cell_type": "markdown",
      "metadata": {
        "id": "1FgUai1bfigC"
      },
      "source": [
        "## **Search for Target protein**"
      ]
    },
    {
      "cell_type": "markdown",
      "metadata": {
        "id": "7lBsDrD0gAqH"
      },
      "source": [
        "### **Target search for SPEM1**"
      ]
    },
    {
      "cell_type": "code",
      "metadata": {
        "id": "Vxtp79so4ZjF",
        "colab": {
          "base_uri": "https://localhost:8080/",
          "height": 623
        },
        "outputId": "2f6e64cf-2a89-457a-fb35-76b5f5136d42"
      },
      "source": [
        "# Target search for SPEM1\n",
        "target = new_client.target\n",
        "target_query = target.search('spermatid maturation protein 1')\n",
        "targets = pd.DataFrame.from_dict(target_query)\n",
        "targets"
      ],
      "execution_count": null,
      "outputs": [
        {
          "output_type": "execute_result",
          "data": {
            "text/html": [
              "<div>\n",
              "<style scoped>\n",
              "    .dataframe tbody tr th:only-of-type {\n",
              "        vertical-align: middle;\n",
              "    }\n",
              "\n",
              "    .dataframe tbody tr th {\n",
              "        vertical-align: top;\n",
              "    }\n",
              "\n",
              "    .dataframe thead th {\n",
              "        text-align: right;\n",
              "    }\n",
              "</style>\n",
              "<table border=\"1\" class=\"dataframe\">\n",
              "  <thead>\n",
              "    <tr style=\"text-align: right;\">\n",
              "      <th></th>\n",
              "      <th>cross_references</th>\n",
              "      <th>organism</th>\n",
              "      <th>pref_name</th>\n",
              "      <th>score</th>\n",
              "      <th>species_group_flag</th>\n",
              "      <th>target_chembl_id</th>\n",
              "      <th>target_components</th>\n",
              "      <th>target_type</th>\n",
              "      <th>tax_id</th>\n",
              "    </tr>\n",
              "  </thead>\n",
              "  <tbody>\n",
              "    <tr>\n",
              "      <th>0</th>\n",
              "      <td>[{'xref_id': 'O35952', 'xref_name': None, 'xre...</td>\n",
              "      <td>Rattus norvegicus</td>\n",
              "      <td>Glyoxalase II</td>\n",
              "      <td>18.0</td>\n",
              "      <td>False</td>\n",
              "      <td>CHEMBL2262</td>\n",
              "      <td>[{'accession': 'O35952', 'component_descriptio...</td>\n",
              "      <td>SINGLE PROTEIN</td>\n",
              "      <td>10116.0</td>\n",
              "    </tr>\n",
              "    <tr>\n",
              "      <th>1</th>\n",
              "      <td>[]</td>\n",
              "      <td>Saccharomyces cerevisiae S288c</td>\n",
              "      <td>Ribosome maturation protein SDO1</td>\n",
              "      <td>18.0</td>\n",
              "      <td>False</td>\n",
              "      <td>CHEMBL1741198</td>\n",
              "      <td>[{'accession': 'Q07953', 'component_descriptio...</td>\n",
              "      <td>SINGLE PROTEIN</td>\n",
              "      <td>559292.0</td>\n",
              "    </tr>\n",
              "    <tr>\n",
              "      <th>2</th>\n",
              "      <td>[{'xref_id': 'P39748', 'xref_name': None, 'xre...</td>\n",
              "      <td>Homo sapiens</td>\n",
              "      <td>Flap endonuclease 1</td>\n",
              "      <td>14.0</td>\n",
              "      <td>False</td>\n",
              "      <td>CHEMBL5027</td>\n",
              "      <td>[{'accession': 'P39748', 'component_descriptio...</td>\n",
              "      <td>SINGLE PROTEIN</td>\n",
              "      <td>9606.0</td>\n",
              "    </tr>\n",
              "    <tr>\n",
              "      <th>3</th>\n",
              "      <td>[{'xref_id': 'P00540', 'xref_name': None, 'xre...</td>\n",
              "      <td>Homo sapiens</td>\n",
              "      <td>Proto-oncogene serine/threonine-protein kinase...</td>\n",
              "      <td>14.0</td>\n",
              "      <td>False</td>\n",
              "      <td>CHEMBL1075184</td>\n",
              "      <td>[{'accession': 'P00540', 'component_descriptio...</td>\n",
              "      <td>SINGLE PROTEIN</td>\n",
              "      <td>9606.0</td>\n",
              "    </tr>\n",
              "    <tr>\n",
              "      <th>4</th>\n",
              "      <td>[]</td>\n",
              "      <td>Mus musculus</td>\n",
              "      <td>Tumor necrosis factor receptor superfamily mem...</td>\n",
              "      <td>14.0</td>\n",
              "      <td>False</td>\n",
              "      <td>CHEMBL1250345</td>\n",
              "      <td>[{'accession': 'O88472', 'component_descriptio...</td>\n",
              "      <td>SINGLE PROTEIN</td>\n",
              "      <td>10090.0</td>\n",
              "    </tr>\n",
              "    <tr>\n",
              "      <th>...</th>\n",
              "      <td>...</td>\n",
              "      <td>...</td>\n",
              "      <td>...</td>\n",
              "      <td>...</td>\n",
              "      <td>...</td>\n",
              "      <td>...</td>\n",
              "      <td>...</td>\n",
              "      <td>...</td>\n",
              "      <td>...</td>\n",
              "    </tr>\n",
              "    <tr>\n",
              "      <th>5858</th>\n",
              "      <td>[]</td>\n",
              "      <td>Homo sapiens</td>\n",
              "      <td>PIK3CG/PIK3R1</td>\n",
              "      <td>0.0</td>\n",
              "      <td>False</td>\n",
              "      <td>CHEMBL4296106</td>\n",
              "      <td>[{'accession': 'P27986', 'component_descriptio...</td>\n",
              "      <td>PROTEIN COMPLEX</td>\n",
              "      <td>9606.0</td>\n",
              "    </tr>\n",
              "    <tr>\n",
              "      <th>5859</th>\n",
              "      <td>[]</td>\n",
              "      <td>Homo sapiens</td>\n",
              "      <td>Cytochrome P450</td>\n",
              "      <td>0.0</td>\n",
              "      <td>False</td>\n",
              "      <td>CHEMBL4523986</td>\n",
              "      <td>[{'accession': 'P08684', 'component_descriptio...</td>\n",
              "      <td>PROTEIN FAMILY</td>\n",
              "      <td>9606.0</td>\n",
              "    </tr>\n",
              "    <tr>\n",
              "      <th>5860</th>\n",
              "      <td>[]</td>\n",
              "      <td>Homo sapiens</td>\n",
              "      <td>Geranylgeranyl transferase type-2</td>\n",
              "      <td>0.0</td>\n",
              "      <td>False</td>\n",
              "      <td>CHEMBL4523994</td>\n",
              "      <td>[{'accession': 'P53611', 'component_descriptio...</td>\n",
              "      <td>PROTEIN COMPLEX</td>\n",
              "      <td>9606.0</td>\n",
              "    </tr>\n",
              "    <tr>\n",
              "      <th>5861</th>\n",
              "      <td>[]</td>\n",
              "      <td>Rattus norvegicus</td>\n",
              "      <td>Geranylgeranyl transferase type-2</td>\n",
              "      <td>0.0</td>\n",
              "      <td>False</td>\n",
              "      <td>CHEMBL4523995</td>\n",
              "      <td>[{'accession': 'Q08603', 'component_descriptio...</td>\n",
              "      <td>PROTEIN COMPLEX</td>\n",
              "      <td>10116.0</td>\n",
              "    </tr>\n",
              "    <tr>\n",
              "      <th>5862</th>\n",
              "      <td>[]</td>\n",
              "      <td>Homo sapiens</td>\n",
              "      <td>Secretory phospholipase A2</td>\n",
              "      <td>0.0</td>\n",
              "      <td>False</td>\n",
              "      <td>CHEMBL4524005</td>\n",
              "      <td>[{'accession': 'Q5R387', 'component_descriptio...</td>\n",
              "      <td>PROTEIN FAMILY</td>\n",
              "      <td>9606.0</td>\n",
              "    </tr>\n",
              "  </tbody>\n",
              "</table>\n",
              "<p>5863 rows × 9 columns</p>\n",
              "</div>"
            ],
            "text/plain": [
              "                                       cross_references  ...    tax_id\n",
              "0     [{'xref_id': 'O35952', 'xref_name': None, 'xre...  ...   10116.0\n",
              "1                                                    []  ...  559292.0\n",
              "2     [{'xref_id': 'P39748', 'xref_name': None, 'xre...  ...    9606.0\n",
              "3     [{'xref_id': 'P00540', 'xref_name': None, 'xre...  ...    9606.0\n",
              "4                                                    []  ...   10090.0\n",
              "...                                                 ...  ...       ...\n",
              "5858                                                 []  ...    9606.0\n",
              "5859                                                 []  ...    9606.0\n",
              "5860                                                 []  ...    9606.0\n",
              "5861                                                 []  ...   10116.0\n",
              "5862                                                 []  ...    9606.0\n",
              "\n",
              "[5863 rows x 9 columns]"
            ]
          },
          "metadata": {},
          "execution_count": 149
        }
      ]
    },
    {
      "cell_type": "markdown",
      "metadata": {
        "id": "Y5OPfEALjAfZ"
      },
      "source": [
        "### **Select and retrieve bioactivity data for *SPEM1* \n"
      ]
    },
    {
      "cell_type": "markdown",
      "metadata": {
        "id": "gSQ3aroOgML7"
      },
      "source": [
        "We will assign the the target protein, *SPEM1* to the ***selected_target*** variable "
      ]
    },
    {
      "cell_type": "code",
      "metadata": {
        "colab": {
          "base_uri": "https://localhost:8080/",
          "height": 35
        },
        "id": "StrcHMVLha7u",
        "outputId": "43c0eaa6-a7ac-4f2c-99fe-33bf742a3049"
      },
      "source": [
        "selected_target = targets.target_chembl_id[2]\n",
        "selected_target"
      ],
      "execution_count": null,
      "outputs": [
        {
          "output_type": "execute_result",
          "data": {
            "application/vnd.google.colaboratory.intrinsic+json": {
              "type": "string"
            },
            "text/plain": [
              "'CHEMBL5027'"
            ]
          },
          "metadata": {},
          "execution_count": 150
        }
      ]
    },
    {
      "cell_type": "code",
      "metadata": {
        "id": "LeFbV_CsSP8D"
      },
      "source": [
        "activity = new_client.activity\n",
        "res = activity.filter(target_chembl_id=selected_target).filter(standard_type=\"IC50\")"
      ],
      "execution_count": null,
      "outputs": []
    },
    {
      "cell_type": "code",
      "metadata": {
        "id": "RC4T-NEmSWV-"
      },
      "source": [
        "df = pd.DataFrame.from_dict(res)"
      ],
      "execution_count": null,
      "outputs": []
    },
    {
      "cell_type": "code",
      "metadata": {
        "colab": {
          "base_uri": "https://localhost:8080/",
          "height": 264
        },
        "id": "s9iUAXFdSkoM",
        "outputId": "0fb4409d-0b93-4e4f-8d43-f5a3b61255e2"
      },
      "source": [
        "df.head(3)"
      ],
      "execution_count": null,
      "outputs": [
        {
          "output_type": "execute_result",
          "data": {
            "text/html": [
              "<div>\n",
              "<style scoped>\n",
              "    .dataframe tbody tr th:only-of-type {\n",
              "        vertical-align: middle;\n",
              "    }\n",
              "\n",
              "    .dataframe tbody tr th {\n",
              "        vertical-align: top;\n",
              "    }\n",
              "\n",
              "    .dataframe thead th {\n",
              "        text-align: right;\n",
              "    }\n",
              "</style>\n",
              "<table border=\"1\" class=\"dataframe\">\n",
              "  <thead>\n",
              "    <tr style=\"text-align: right;\">\n",
              "      <th></th>\n",
              "      <th>activity_comment</th>\n",
              "      <th>activity_id</th>\n",
              "      <th>activity_properties</th>\n",
              "      <th>assay_chembl_id</th>\n",
              "      <th>assay_description</th>\n",
              "      <th>assay_type</th>\n",
              "      <th>assay_variant_accession</th>\n",
              "      <th>assay_variant_mutation</th>\n",
              "      <th>bao_endpoint</th>\n",
              "      <th>bao_format</th>\n",
              "      <th>bao_label</th>\n",
              "      <th>canonical_smiles</th>\n",
              "      <th>data_validity_comment</th>\n",
              "      <th>data_validity_description</th>\n",
              "      <th>document_chembl_id</th>\n",
              "      <th>document_journal</th>\n",
              "      <th>document_year</th>\n",
              "      <th>ligand_efficiency</th>\n",
              "      <th>molecule_chembl_id</th>\n",
              "      <th>molecule_pref_name</th>\n",
              "      <th>parent_molecule_chembl_id</th>\n",
              "      <th>pchembl_value</th>\n",
              "      <th>potential_duplicate</th>\n",
              "      <th>qudt_units</th>\n",
              "      <th>record_id</th>\n",
              "      <th>relation</th>\n",
              "      <th>src_id</th>\n",
              "      <th>standard_flag</th>\n",
              "      <th>standard_relation</th>\n",
              "      <th>standard_text_value</th>\n",
              "      <th>standard_type</th>\n",
              "      <th>standard_units</th>\n",
              "      <th>standard_upper_value</th>\n",
              "      <th>standard_value</th>\n",
              "      <th>target_chembl_id</th>\n",
              "      <th>target_organism</th>\n",
              "      <th>target_pref_name</th>\n",
              "      <th>target_tax_id</th>\n",
              "      <th>text_value</th>\n",
              "      <th>toid</th>\n",
              "      <th>type</th>\n",
              "      <th>units</th>\n",
              "      <th>uo_units</th>\n",
              "      <th>upper_value</th>\n",
              "      <th>value</th>\n",
              "    </tr>\n",
              "  </thead>\n",
              "  <tbody>\n",
              "    <tr>\n",
              "      <th>0</th>\n",
              "      <td>None</td>\n",
              "      <td>1435444</td>\n",
              "      <td>[]</td>\n",
              "      <td>CHEMBL827838</td>\n",
              "      <td>Inhibitory concentration against the Flap endo...</td>\n",
              "      <td>B</td>\n",
              "      <td>None</td>\n",
              "      <td>None</td>\n",
              "      <td>BAO_0000190</td>\n",
              "      <td>BAO_0000357</td>\n",
              "      <td>single protein format</td>\n",
              "      <td>O=c1[nH]c2ccccc2c(=O)n1O</td>\n",
              "      <td>None</td>\n",
              "      <td>None</td>\n",
              "      <td>CHEMBL1142827</td>\n",
              "      <td>Bioorg. Med. Chem. Lett.</td>\n",
              "      <td>2005</td>\n",
              "      <td>{'bei': '56.71', 'le': '1.06', 'lle': '10.17',...</td>\n",
              "      <td>CHEMBL183852</td>\n",
              "      <td>None</td>\n",
              "      <td>CHEMBL183852</td>\n",
              "      <td>10.10</td>\n",
              "      <td>False</td>\n",
              "      <td>http://www.openphacts.org/units/Nanomolar</td>\n",
              "      <td>370788</td>\n",
              "      <td>=</td>\n",
              "      <td>1</td>\n",
              "      <td>True</td>\n",
              "      <td>=</td>\n",
              "      <td>None</td>\n",
              "      <td>IC50</td>\n",
              "      <td>nM</td>\n",
              "      <td>None</td>\n",
              "      <td>0.079</td>\n",
              "      <td>CHEMBL5027</td>\n",
              "      <td>Homo sapiens</td>\n",
              "      <td>Flap endonuclease 1</td>\n",
              "      <td>9606</td>\n",
              "      <td>None</td>\n",
              "      <td>None</td>\n",
              "      <td>IC50</td>\n",
              "      <td>nM</td>\n",
              "      <td>UO_0000065</td>\n",
              "      <td>None</td>\n",
              "      <td>0.079</td>\n",
              "    </tr>\n",
              "    <tr>\n",
              "      <th>1</th>\n",
              "      <td>None</td>\n",
              "      <td>1435446</td>\n",
              "      <td>[]</td>\n",
              "      <td>CHEMBL827838</td>\n",
              "      <td>Inhibitory concentration against the Flap endo...</td>\n",
              "      <td>B</td>\n",
              "      <td>None</td>\n",
              "      <td>None</td>\n",
              "      <td>BAO_0000190</td>\n",
              "      <td>BAO_0000357</td>\n",
              "      <td>single protein format</td>\n",
              "      <td>O=c1[nH]c2cccc(Cl)c2c(=O)n1O</td>\n",
              "      <td>None</td>\n",
              "      <td>None</td>\n",
              "      <td>CHEMBL1142827</td>\n",
              "      <td>Bioorg. Med. Chem. Lett.</td>\n",
              "      <td>2005</td>\n",
              "      <td>{'bei': '51.06', 'le': '1.06', 'lle': '10.27',...</td>\n",
              "      <td>CHEMBL182687</td>\n",
              "      <td>None</td>\n",
              "      <td>CHEMBL182687</td>\n",
              "      <td>10.85</td>\n",
              "      <td>False</td>\n",
              "      <td>http://www.openphacts.org/units/Nanomolar</td>\n",
              "      <td>370794</td>\n",
              "      <td>=</td>\n",
              "      <td>1</td>\n",
              "      <td>True</td>\n",
              "      <td>=</td>\n",
              "      <td>None</td>\n",
              "      <td>IC50</td>\n",
              "      <td>nM</td>\n",
              "      <td>None</td>\n",
              "      <td>0.014</td>\n",
              "      <td>CHEMBL5027</td>\n",
              "      <td>Homo sapiens</td>\n",
              "      <td>Flap endonuclease 1</td>\n",
              "      <td>9606</td>\n",
              "      <td>None</td>\n",
              "      <td>None</td>\n",
              "      <td>IC50</td>\n",
              "      <td>nM</td>\n",
              "      <td>UO_0000065</td>\n",
              "      <td>None</td>\n",
              "      <td>0.014</td>\n",
              "    </tr>\n",
              "    <tr>\n",
              "      <th>2</th>\n",
              "      <td>None</td>\n",
              "      <td>1435448</td>\n",
              "      <td>[]</td>\n",
              "      <td>CHEMBL827838</td>\n",
              "      <td>Inhibitory concentration against the Flap endo...</td>\n",
              "      <td>B</td>\n",
              "      <td>None</td>\n",
              "      <td>None</td>\n",
              "      <td>BAO_0000190</td>\n",
              "      <td>BAO_0000357</td>\n",
              "      <td>single protein format</td>\n",
              "      <td>O=c1[nH]c2sccc2c(=O)n1O</td>\n",
              "      <td>None</td>\n",
              "      <td>None</td>\n",
              "      <td>CHEMBL1142827</td>\n",
              "      <td>Bioorg. Med. Chem. Lett.</td>\n",
              "      <td>2005</td>\n",
              "      <td>{'bei': '57.56', 'le': '1.21', 'lle': '10.61',...</td>\n",
              "      <td>CHEMBL361350</td>\n",
              "      <td>None</td>\n",
              "      <td>CHEMBL361350</td>\n",
              "      <td>10.60</td>\n",
              "      <td>False</td>\n",
              "      <td>http://www.openphacts.org/units/Nanomolar</td>\n",
              "      <td>370795</td>\n",
              "      <td>=</td>\n",
              "      <td>1</td>\n",
              "      <td>True</td>\n",
              "      <td>=</td>\n",
              "      <td>None</td>\n",
              "      <td>IC50</td>\n",
              "      <td>nM</td>\n",
              "      <td>None</td>\n",
              "      <td>0.025</td>\n",
              "      <td>CHEMBL5027</td>\n",
              "      <td>Homo sapiens</td>\n",
              "      <td>Flap endonuclease 1</td>\n",
              "      <td>9606</td>\n",
              "      <td>None</td>\n",
              "      <td>None</td>\n",
              "      <td>IC50</td>\n",
              "      <td>nM</td>\n",
              "      <td>UO_0000065</td>\n",
              "      <td>None</td>\n",
              "      <td>0.025</td>\n",
              "    </tr>\n",
              "  </tbody>\n",
              "</table>\n",
              "</div>"
            ],
            "text/plain": [
              "  activity_comment  activity_id  ... upper_value  value\n",
              "0             None      1435444  ...        None  0.079\n",
              "1             None      1435446  ...        None  0.014\n",
              "2             None      1435448  ...        None  0.025\n",
              "\n",
              "[3 rows x 45 columns]"
            ]
          },
          "metadata": {},
          "execution_count": 153
        }
      ]
    },
    {
      "cell_type": "code",
      "metadata": {
        "colab": {
          "base_uri": "https://localhost:8080/"
        },
        "id": "oNtBv36dYhxy",
        "outputId": "f4e93177-79c7-40cf-87a2-7d604cdb61c2"
      },
      "source": [
        "df.standard_type.unique()"
      ],
      "execution_count": null,
      "outputs": [
        {
          "output_type": "execute_result",
          "data": {
            "text/plain": [
              "array(['IC50'], dtype=object)"
            ]
          },
          "metadata": {},
          "execution_count": 154
        }
      ]
    },
    {
      "cell_type": "markdown",
      "metadata": {
        "id": "fQ78N26Fg15T"
      },
      "source": [
        "Finally we will save the resulting bioactivity data to a CSV file **bioactivity_data_spem1.csv**."
      ]
    },
    {
      "cell_type": "code",
      "metadata": {
        "id": "ZvUUEIVxTOH1"
      },
      "source": [
        "df.to_csv('bioactivity_data_spem1.csv', index=False)"
      ],
      "execution_count": null,
      "outputs": []
    },
    {
      "cell_type": "markdown",
      "metadata": {
        "id": "BOrSrTGjOWU7"
      },
      "source": [
        "## **Copying files to Google Drive**"
      ]
    },
    {
      "cell_type": "markdown",
      "metadata": {
        "id": "PRputWaI7ZW7"
      },
      "source": [
        "Firstly, we need to mount the Google Drive into Colab so that we can have access to our Google adrive from within Colab."
      ]
    },
    {
      "cell_type": "code",
      "metadata": {
        "colab": {
          "base_uri": "https://localhost:8080/"
        },
        "id": "6RBX658q65A5",
        "outputId": "c54776cd-c608-46c1-bd8e-85d0a9d5070c"
      },
      "source": [
        "from google.colab import drive\n",
        "drive.mount('/content/gdrive/', force_remount=True)\n"
      ],
      "execution_count": null,
      "outputs": [
        {
          "output_type": "stream",
          "name": "stdout",
          "text": [
            "Mounted at /content/gdrive/\n"
          ]
        }
      ]
    },
    {
      "cell_type": "markdown",
      "metadata": {
        "id": "CMlY0xudN1mL"
      },
      "source": [
        "Next, we create a **data** folder in our **Colab Notebooks** folder on Google Drive."
      ]
    },
    {
      "cell_type": "code",
      "metadata": {
        "id": "tew-UtUWIS__",
        "colab": {
          "base_uri": "https://localhost:8080/"
        },
        "outputId": "33fe8790-e42c-4f79-e26c-d8398704970b"
      },
      "source": [
        "! mkdir \"/content/gdrive/My Drive/Colab Notebooks/databirthcontrol\""
      ],
      "execution_count": null,
      "outputs": [
        {
          "output_type": "stream",
          "name": "stdout",
          "text": [
            "mkdir: cannot create directory ‘/content/gdrive/My Drive/Colab Notebooks/databirthcontrol’: File exists\n"
          ]
        }
      ]
    },
    {
      "cell_type": "code",
      "metadata": {
        "id": "YDMBpK2XJ_rJ"
      },
      "source": [
        "! cp bioactivity_data_spem1.csv \"/content/gdrive/My Drive/Colab Notebooks/databirthcontrol\""
      ],
      "execution_count": null,
      "outputs": []
    },
    {
      "cell_type": "code",
      "metadata": {
        "colab": {
          "base_uri": "https://localhost:8080/"
        },
        "id": "iRIr1QiEJtuw",
        "outputId": "63661563-22d9-4d25-d7e7-254b6907c9c3"
      },
      "source": [
        "! ls -l \"/content/gdrive/My Drive/Colab Notebooks/databirthcontrol\""
      ],
      "execution_count": null,
      "outputs": [
        {
          "output_type": "stream",
          "name": "stdout",
          "text": [
            "total 76\n",
            "-rw------- 1 root root 10451 Oct 16 20:14 bioactivity_data_GP.csv\n",
            "-rw------- 1 root root 63177 Oct 16 22:37 bioactivity_data_spem1.csv\n",
            "-rw------- 1 root root  2729 Oct 16 20:17 bioactivity_preprocessed_data_GP.csv\n"
          ]
        }
      ]
    },
    {
      "cell_type": "markdown",
      "metadata": {
        "id": "z9NwrYJni8CH"
      },
      "source": [
        "Let's see the CSV files that we have so far."
      ]
    },
    {
      "cell_type": "code",
      "metadata": {
        "colab": {
          "base_uri": "https://localhost:8080/"
        },
        "id": "FO3cZC5vnCht",
        "outputId": "09225f7f-27b9-4a42-f232-f00527e0839d"
      },
      "source": [
        "! ls"
      ],
      "execution_count": null,
      "outputs": [
        {
          "output_type": "stream",
          "name": "stdout",
          "text": [
            " bioactivity_data_GP.csv\n",
            " bioactivity_data_spem1.csv\n",
            " bioactivity_preprocessed_data_GP.csv\n",
            "'DOWNLOAD-yFswpt0tiAV2JGBSOyl1cfKNSD8ZdC8Xhmr12JTzrWs=.csv'\n",
            "'DOWNLOAD-yFswpt0tiAV2JGBSOyl1cfKNSD8ZdC8Xhmr12JTzrWs=.csv.1'\n",
            " gdrive\n",
            " sample_data\n"
          ]
        }
      ]
    },
    {
      "cell_type": "markdown",
      "metadata": {
        "id": "7UAasSu5jAeB"
      },
      "source": [
        "Taking a glimpse of the **bioactivity_data_spem1.csv** file that we've just created."
      ]
    },
    {
      "cell_type": "code",
      "metadata": {
        "colab": {
          "base_uri": "https://localhost:8080/"
        },
        "id": "jwEJjx5b5gAn",
        "outputId": "497e7828-a2d9-4bec-ba7b-4a2822d06a1e"
      },
      "source": [
        "! head bioactivity_data_spem1.csv"
      ],
      "execution_count": null,
      "outputs": [
        {
          "output_type": "stream",
          "name": "stdout",
          "text": [
            "activity_comment,activity_id,activity_properties,assay_chembl_id,assay_description,assay_type,assay_variant_accession,assay_variant_mutation,bao_endpoint,bao_format,bao_label,canonical_smiles,data_validity_comment,data_validity_description,document_chembl_id,document_journal,document_year,ligand_efficiency,molecule_chembl_id,molecule_pref_name,parent_molecule_chembl_id,pchembl_value,potential_duplicate,qudt_units,record_id,relation,src_id,standard_flag,standard_relation,standard_text_value,standard_type,standard_units,standard_upper_value,standard_value,target_chembl_id,target_organism,target_pref_name,target_tax_id,text_value,toid,type,units,uo_units,upper_value,value\n",
            ",1435444,[],CHEMBL827838,Inhibitory concentration against the Flap endonuclease-1,B,,,BAO_0000190,BAO_0000357,single protein format,O=c1[nH]c2ccccc2c(=O)n1O,,,CHEMBL1142827,Bioorg. Med. Chem. Lett.,2005,\"{'bei': '56.71', 'le': '1.06', 'lle': '10.17', 'sei': '13.45'}\",CHEMBL183852,,CHEMBL183852,10.10,False,http://www.openphacts.org/units/Nanomolar,370788,=,1,True,=,,IC50,nM,,0.079,CHEMBL5027,Homo sapiens,Flap endonuclease 1,9606,,,IC50,nM,UO_0000065,,0.079\n",
            ",1435446,[],CHEMBL827838,Inhibitory concentration against the Flap endonuclease-1,B,,,BAO_0000190,BAO_0000357,single protein format,O=c1[nH]c2cccc(Cl)c2c(=O)n1O,,,CHEMBL1142827,Bioorg. Med. Chem. Lett.,2005,\"{'bei': '51.06', 'le': '1.06', 'lle': '10.27', 'sei': '14.45'}\",CHEMBL182687,,CHEMBL182687,10.85,False,http://www.openphacts.org/units/Nanomolar,370794,=,1,True,=,,IC50,nM,,0.014,CHEMBL5027,Homo sapiens,Flap endonuclease 1,9606,,,IC50,nM,UO_0000065,,0.014\n",
            ",1435448,[],CHEMBL827838,Inhibitory concentration against the Flap endonuclease-1,B,,,BAO_0000190,BAO_0000357,single protein format,O=c1[nH]c2sccc2c(=O)n1O,,,CHEMBL1142827,Bioorg. Med. Chem. Lett.,2005,\"{'bei': '57.56', 'le': '1.21', 'lle': '10.61', 'sei': '14.12'}\",CHEMBL361350,,CHEMBL361350,10.60,False,http://www.openphacts.org/units/Nanomolar,370795,=,1,True,=,,IC50,nM,,0.025,CHEMBL5027,Homo sapiens,Flap endonuclease 1,9606,,,IC50,nM,UO_0000065,,0.025\n",
            ",1435450,[],CHEMBL827838,Inhibitory concentration against the Flap endonuclease-1,B,,,BAO_0000190,BAO_0000357,single protein format,Cc1csc2[nH]c(=O)n(O)c(=O)c12,,,CHEMBL1142827,Bioorg. Med. Chem. Lett.,2005,\"{'bei': '54.76', 'le': '1.14', 'lle': '10.55', 'sei': '14.45'}\",CHEMBL183792,,CHEMBL183792,10.85,False,http://www.openphacts.org/units/Nanomolar,370796,=,1,True,=,,IC50,nM,,0.014,CHEMBL5027,Homo sapiens,Flap endonuclease 1,9606,,,IC50,nM,UO_0000065,,0.014\n",
            ",1435452,[],CHEMBL827838,Inhibitory concentration against the Flap endonuclease-1,B,,,BAO_0000190,BAO_0000357,single protein format,O=c1[nH]c2sc3c(c2c(=O)n1O)CCCC3,Outside typical range,\"Values for this activity type are unusually large/small, so may not be accurate\",CHEMBL1142827,Bioorg. Med. Chem. Lett.,2005,,CHEMBL362842,,CHEMBL362842,,False,http://www.openphacts.org/units/Nanomolar,370801,=,1,True,=,,IC50,nM,,0.009,CHEMBL5027,Homo sapiens,Flap endonuclease 1,9606,,,IC50,nM,UO_0000065,,0.009\n",
            ",1435459,[],CHEMBL827838,Inhibitory concentration against the Flap endonuclease-1,B,,,BAO_0000190,BAO_0000357,single protein format,CC(C)(C)c1cc2[nH]c(=O)n(O)c(=O)c2s1,,,CHEMBL1142827,Bioorg. Med. Chem. Lett.,2005,\"{'bei': '41.08', 'le': '0.84', 'lle': '8.58', 'sei': '13.14'}\",CHEMBL360615,,CHEMBL360615,9.87,False,http://www.openphacts.org/units/Nanomolar,370807,=,1,True,=,,IC50,nM,,0.135,CHEMBL5027,Homo sapiens,Flap endonuclease 1,9606,,,IC50,nM,UO_0000065,,0.135\n",
            ",1435461,[],CHEMBL827838,Inhibitory concentration against the Flap endonuclease-1,B,,,BAO_0000190,BAO_0000357,single protein format,O=c1[nH]c2cc(-c3ccccc3)sc2c(=O)n1O,,,CHEMBL1142827,Bioorg. Med. Chem. Lett.,2005,\"{'bei': '37.79', 'le': '0.75', 'lle': '8.18', 'sei': '13.10'}\",CHEMBL183062,,CHEMBL183062,9.84,False,http://www.openphacts.org/units/Nanomolar,370808,=,1,True,=,,IC50,nM,,0.146,CHEMBL5027,Homo sapiens,Flap endonuclease 1,9606,,,IC50,nM,UO_0000065,,0.146\n",
            ",1435570,[],CHEMBL827838,Inhibitory concentration against the Flap endonuclease-1,B,,,BAO_0000190,BAO_0000357,single protein format,O=c1[nH]c2c(-c3ccccc3)csc2c(=O)n1O,,,CHEMBL1142827,Bioorg. Med. Chem. Lett.,2005,\"{'bei': '41.96', 'le': '0.83', 'lle': '9.26', 'sei': '14.54'}\",CHEMBL361011,,CHEMBL361011,10.92,False,http://www.openphacts.org/units/Nanomolar,370815,=,1,True,=,,IC50,nM,,0.012,CHEMBL5027,Homo sapiens,Flap endonuclease 1,9606,,,IC50,nM,UO_0000065,,0.012\n",
            ",1435572,[],CHEMBL827838,Inhibitory concentration against the Flap endonuclease-1,B,,,BAO_0000190,BAO_0000357,single protein format,O=c1[nH]c2c(S(=O)(=O)c3ccccc3)csc2c(=O)n1O,,,CHEMBL1142827,Bioorg. Med. Chem. Lett.,2005,\"{'bei': '33.92', 'le': '0.72', 'lle': '10.18', 'sei': '10.07'}\",CHEMBL361962,,CHEMBL361962,11.00,False,http://www.openphacts.org/units/Nanomolar,370816,=,1,True,=,,IC50,nM,,0.01,CHEMBL5027,Homo sapiens,Flap endonuclease 1,9606,,,IC50,nM,UO_0000065,,0.01\n"
          ]
        }
      ]
    },
    {
      "cell_type": "markdown",
      "metadata": {
        "id": "_GXMpFNUOn_8"
      },
      "source": [
        "## **Handling missing data**\n",
        "If any compounds has missing value for the **standard_value** column then drop it"
      ]
    },
    {
      "cell_type": "code",
      "metadata": {
        "colab": {
          "base_uri": "https://localhost:8080/",
          "height": 779
        },
        "id": "hkVOdk6ZR396",
        "outputId": "73249c06-7bc8-4038-a06d-3f25bb7414fc"
      },
      "source": [
        "df2 = df[df.standard_value.notna()]\n",
        "df2"
      ],
      "execution_count": null,
      "outputs": [
        {
          "output_type": "execute_result",
          "data": {
            "text/html": [
              "<div>\n",
              "<style scoped>\n",
              "    .dataframe tbody tr th:only-of-type {\n",
              "        vertical-align: middle;\n",
              "    }\n",
              "\n",
              "    .dataframe tbody tr th {\n",
              "        vertical-align: top;\n",
              "    }\n",
              "\n",
              "    .dataframe thead th {\n",
              "        text-align: right;\n",
              "    }\n",
              "</style>\n",
              "<table border=\"1\" class=\"dataframe\">\n",
              "  <thead>\n",
              "    <tr style=\"text-align: right;\">\n",
              "      <th></th>\n",
              "      <th>activity_comment</th>\n",
              "      <th>activity_id</th>\n",
              "      <th>activity_properties</th>\n",
              "      <th>assay_chembl_id</th>\n",
              "      <th>assay_description</th>\n",
              "      <th>assay_type</th>\n",
              "      <th>assay_variant_accession</th>\n",
              "      <th>assay_variant_mutation</th>\n",
              "      <th>bao_endpoint</th>\n",
              "      <th>bao_format</th>\n",
              "      <th>bao_label</th>\n",
              "      <th>canonical_smiles</th>\n",
              "      <th>data_validity_comment</th>\n",
              "      <th>data_validity_description</th>\n",
              "      <th>document_chembl_id</th>\n",
              "      <th>document_journal</th>\n",
              "      <th>document_year</th>\n",
              "      <th>ligand_efficiency</th>\n",
              "      <th>molecule_chembl_id</th>\n",
              "      <th>molecule_pref_name</th>\n",
              "      <th>parent_molecule_chembl_id</th>\n",
              "      <th>pchembl_value</th>\n",
              "      <th>potential_duplicate</th>\n",
              "      <th>qudt_units</th>\n",
              "      <th>record_id</th>\n",
              "      <th>relation</th>\n",
              "      <th>src_id</th>\n",
              "      <th>standard_flag</th>\n",
              "      <th>standard_relation</th>\n",
              "      <th>standard_text_value</th>\n",
              "      <th>standard_type</th>\n",
              "      <th>standard_units</th>\n",
              "      <th>standard_upper_value</th>\n",
              "      <th>standard_value</th>\n",
              "      <th>target_chembl_id</th>\n",
              "      <th>target_organism</th>\n",
              "      <th>target_pref_name</th>\n",
              "      <th>target_tax_id</th>\n",
              "      <th>text_value</th>\n",
              "      <th>toid</th>\n",
              "      <th>type</th>\n",
              "      <th>units</th>\n",
              "      <th>uo_units</th>\n",
              "      <th>upper_value</th>\n",
              "      <th>value</th>\n",
              "    </tr>\n",
              "  </thead>\n",
              "  <tbody>\n",
              "    <tr>\n",
              "      <th>0</th>\n",
              "      <td>None</td>\n",
              "      <td>1435444</td>\n",
              "      <td>[]</td>\n",
              "      <td>CHEMBL827838</td>\n",
              "      <td>Inhibitory concentration against the Flap endo...</td>\n",
              "      <td>B</td>\n",
              "      <td>None</td>\n",
              "      <td>None</td>\n",
              "      <td>BAO_0000190</td>\n",
              "      <td>BAO_0000357</td>\n",
              "      <td>single protein format</td>\n",
              "      <td>O=c1[nH]c2ccccc2c(=O)n1O</td>\n",
              "      <td>None</td>\n",
              "      <td>None</td>\n",
              "      <td>CHEMBL1142827</td>\n",
              "      <td>Bioorg. Med. Chem. Lett.</td>\n",
              "      <td>2005</td>\n",
              "      <td>{'bei': '56.71', 'le': '1.06', 'lle': '10.17',...</td>\n",
              "      <td>CHEMBL183852</td>\n",
              "      <td>None</td>\n",
              "      <td>CHEMBL183852</td>\n",
              "      <td>10.10</td>\n",
              "      <td>False</td>\n",
              "      <td>http://www.openphacts.org/units/Nanomolar</td>\n",
              "      <td>370788</td>\n",
              "      <td>=</td>\n",
              "      <td>1</td>\n",
              "      <td>True</td>\n",
              "      <td>=</td>\n",
              "      <td>None</td>\n",
              "      <td>IC50</td>\n",
              "      <td>nM</td>\n",
              "      <td>None</td>\n",
              "      <td>0.079</td>\n",
              "      <td>CHEMBL5027</td>\n",
              "      <td>Homo sapiens</td>\n",
              "      <td>Flap endonuclease 1</td>\n",
              "      <td>9606</td>\n",
              "      <td>None</td>\n",
              "      <td>None</td>\n",
              "      <td>IC50</td>\n",
              "      <td>nM</td>\n",
              "      <td>UO_0000065</td>\n",
              "      <td>None</td>\n",
              "      <td>0.079</td>\n",
              "    </tr>\n",
              "    <tr>\n",
              "      <th>1</th>\n",
              "      <td>None</td>\n",
              "      <td>1435446</td>\n",
              "      <td>[]</td>\n",
              "      <td>CHEMBL827838</td>\n",
              "      <td>Inhibitory concentration against the Flap endo...</td>\n",
              "      <td>B</td>\n",
              "      <td>None</td>\n",
              "      <td>None</td>\n",
              "      <td>BAO_0000190</td>\n",
              "      <td>BAO_0000357</td>\n",
              "      <td>single protein format</td>\n",
              "      <td>O=c1[nH]c2cccc(Cl)c2c(=O)n1O</td>\n",
              "      <td>None</td>\n",
              "      <td>None</td>\n",
              "      <td>CHEMBL1142827</td>\n",
              "      <td>Bioorg. Med. Chem. Lett.</td>\n",
              "      <td>2005</td>\n",
              "      <td>{'bei': '51.06', 'le': '1.06', 'lle': '10.27',...</td>\n",
              "      <td>CHEMBL182687</td>\n",
              "      <td>None</td>\n",
              "      <td>CHEMBL182687</td>\n",
              "      <td>10.85</td>\n",
              "      <td>False</td>\n",
              "      <td>http://www.openphacts.org/units/Nanomolar</td>\n",
              "      <td>370794</td>\n",
              "      <td>=</td>\n",
              "      <td>1</td>\n",
              "      <td>True</td>\n",
              "      <td>=</td>\n",
              "      <td>None</td>\n",
              "      <td>IC50</td>\n",
              "      <td>nM</td>\n",
              "      <td>None</td>\n",
              "      <td>0.014</td>\n",
              "      <td>CHEMBL5027</td>\n",
              "      <td>Homo sapiens</td>\n",
              "      <td>Flap endonuclease 1</td>\n",
              "      <td>9606</td>\n",
              "      <td>None</td>\n",
              "      <td>None</td>\n",
              "      <td>IC50</td>\n",
              "      <td>nM</td>\n",
              "      <td>UO_0000065</td>\n",
              "      <td>None</td>\n",
              "      <td>0.014</td>\n",
              "    </tr>\n",
              "    <tr>\n",
              "      <th>2</th>\n",
              "      <td>None</td>\n",
              "      <td>1435448</td>\n",
              "      <td>[]</td>\n",
              "      <td>CHEMBL827838</td>\n",
              "      <td>Inhibitory concentration against the Flap endo...</td>\n",
              "      <td>B</td>\n",
              "      <td>None</td>\n",
              "      <td>None</td>\n",
              "      <td>BAO_0000190</td>\n",
              "      <td>BAO_0000357</td>\n",
              "      <td>single protein format</td>\n",
              "      <td>O=c1[nH]c2sccc2c(=O)n1O</td>\n",
              "      <td>None</td>\n",
              "      <td>None</td>\n",
              "      <td>CHEMBL1142827</td>\n",
              "      <td>Bioorg. Med. Chem. Lett.</td>\n",
              "      <td>2005</td>\n",
              "      <td>{'bei': '57.56', 'le': '1.21', 'lle': '10.61',...</td>\n",
              "      <td>CHEMBL361350</td>\n",
              "      <td>None</td>\n",
              "      <td>CHEMBL361350</td>\n",
              "      <td>10.60</td>\n",
              "      <td>False</td>\n",
              "      <td>http://www.openphacts.org/units/Nanomolar</td>\n",
              "      <td>370795</td>\n",
              "      <td>=</td>\n",
              "      <td>1</td>\n",
              "      <td>True</td>\n",
              "      <td>=</td>\n",
              "      <td>None</td>\n",
              "      <td>IC50</td>\n",
              "      <td>nM</td>\n",
              "      <td>None</td>\n",
              "      <td>0.025</td>\n",
              "      <td>CHEMBL5027</td>\n",
              "      <td>Homo sapiens</td>\n",
              "      <td>Flap endonuclease 1</td>\n",
              "      <td>9606</td>\n",
              "      <td>None</td>\n",
              "      <td>None</td>\n",
              "      <td>IC50</td>\n",
              "      <td>nM</td>\n",
              "      <td>UO_0000065</td>\n",
              "      <td>None</td>\n",
              "      <td>0.025</td>\n",
              "    </tr>\n",
              "    <tr>\n",
              "      <th>3</th>\n",
              "      <td>None</td>\n",
              "      <td>1435450</td>\n",
              "      <td>[]</td>\n",
              "      <td>CHEMBL827838</td>\n",
              "      <td>Inhibitory concentration against the Flap endo...</td>\n",
              "      <td>B</td>\n",
              "      <td>None</td>\n",
              "      <td>None</td>\n",
              "      <td>BAO_0000190</td>\n",
              "      <td>BAO_0000357</td>\n",
              "      <td>single protein format</td>\n",
              "      <td>Cc1csc2[nH]c(=O)n(O)c(=O)c12</td>\n",
              "      <td>None</td>\n",
              "      <td>None</td>\n",
              "      <td>CHEMBL1142827</td>\n",
              "      <td>Bioorg. Med. Chem. Lett.</td>\n",
              "      <td>2005</td>\n",
              "      <td>{'bei': '54.76', 'le': '1.14', 'lle': '10.55',...</td>\n",
              "      <td>CHEMBL183792</td>\n",
              "      <td>None</td>\n",
              "      <td>CHEMBL183792</td>\n",
              "      <td>10.85</td>\n",
              "      <td>False</td>\n",
              "      <td>http://www.openphacts.org/units/Nanomolar</td>\n",
              "      <td>370796</td>\n",
              "      <td>=</td>\n",
              "      <td>1</td>\n",
              "      <td>True</td>\n",
              "      <td>=</td>\n",
              "      <td>None</td>\n",
              "      <td>IC50</td>\n",
              "      <td>nM</td>\n",
              "      <td>None</td>\n",
              "      <td>0.014</td>\n",
              "      <td>CHEMBL5027</td>\n",
              "      <td>Homo sapiens</td>\n",
              "      <td>Flap endonuclease 1</td>\n",
              "      <td>9606</td>\n",
              "      <td>None</td>\n",
              "      <td>None</td>\n",
              "      <td>IC50</td>\n",
              "      <td>nM</td>\n",
              "      <td>UO_0000065</td>\n",
              "      <td>None</td>\n",
              "      <td>0.014</td>\n",
              "    </tr>\n",
              "    <tr>\n",
              "      <th>4</th>\n",
              "      <td>None</td>\n",
              "      <td>1435452</td>\n",
              "      <td>[]</td>\n",
              "      <td>CHEMBL827838</td>\n",
              "      <td>Inhibitory concentration against the Flap endo...</td>\n",
              "      <td>B</td>\n",
              "      <td>None</td>\n",
              "      <td>None</td>\n",
              "      <td>BAO_0000190</td>\n",
              "      <td>BAO_0000357</td>\n",
              "      <td>single protein format</td>\n",
              "      <td>O=c1[nH]c2sc3c(c2c(=O)n1O)CCCC3</td>\n",
              "      <td>Outside typical range</td>\n",
              "      <td>Values for this activity type are unusually la...</td>\n",
              "      <td>CHEMBL1142827</td>\n",
              "      <td>Bioorg. Med. Chem. Lett.</td>\n",
              "      <td>2005</td>\n",
              "      <td>None</td>\n",
              "      <td>CHEMBL362842</td>\n",
              "      <td>None</td>\n",
              "      <td>CHEMBL362842</td>\n",
              "      <td>None</td>\n",
              "      <td>False</td>\n",
              "      <td>http://www.openphacts.org/units/Nanomolar</td>\n",
              "      <td>370801</td>\n",
              "      <td>=</td>\n",
              "      <td>1</td>\n",
              "      <td>True</td>\n",
              "      <td>=</td>\n",
              "      <td>None</td>\n",
              "      <td>IC50</td>\n",
              "      <td>nM</td>\n",
              "      <td>None</td>\n",
              "      <td>0.009</td>\n",
              "      <td>CHEMBL5027</td>\n",
              "      <td>Homo sapiens</td>\n",
              "      <td>Flap endonuclease 1</td>\n",
              "      <td>9606</td>\n",
              "      <td>None</td>\n",
              "      <td>None</td>\n",
              "      <td>IC50</td>\n",
              "      <td>nM</td>\n",
              "      <td>UO_0000065</td>\n",
              "      <td>None</td>\n",
              "      <td>0.009</td>\n",
              "    </tr>\n",
              "    <tr>\n",
              "      <th>...</th>\n",
              "      <td>...</td>\n",
              "      <td>...</td>\n",
              "      <td>...</td>\n",
              "      <td>...</td>\n",
              "      <td>...</td>\n",
              "      <td>...</td>\n",
              "      <td>...</td>\n",
              "      <td>...</td>\n",
              "      <td>...</td>\n",
              "      <td>...</td>\n",
              "      <td>...</td>\n",
              "      <td>...</td>\n",
              "      <td>...</td>\n",
              "      <td>...</td>\n",
              "      <td>...</td>\n",
              "      <td>...</td>\n",
              "      <td>...</td>\n",
              "      <td>...</td>\n",
              "      <td>...</td>\n",
              "      <td>...</td>\n",
              "      <td>...</td>\n",
              "      <td>...</td>\n",
              "      <td>...</td>\n",
              "      <td>...</td>\n",
              "      <td>...</td>\n",
              "      <td>...</td>\n",
              "      <td>...</td>\n",
              "      <td>...</td>\n",
              "      <td>...</td>\n",
              "      <td>...</td>\n",
              "      <td>...</td>\n",
              "      <td>...</td>\n",
              "      <td>...</td>\n",
              "      <td>...</td>\n",
              "      <td>...</td>\n",
              "      <td>...</td>\n",
              "      <td>...</td>\n",
              "      <td>...</td>\n",
              "      <td>...</td>\n",
              "      <td>...</td>\n",
              "      <td>...</td>\n",
              "      <td>...</td>\n",
              "      <td>...</td>\n",
              "      <td>...</td>\n",
              "      <td>...</td>\n",
              "    </tr>\n",
              "    <tr>\n",
              "      <th>138</th>\n",
              "      <td>None</td>\n",
              "      <td>15726297</td>\n",
              "      <td>[]</td>\n",
              "      <td>CHEMBL3619485</td>\n",
              "      <td>Inhibition of FEN1 (unknown origin)</td>\n",
              "      <td>B</td>\n",
              "      <td>None</td>\n",
              "      <td>None</td>\n",
              "      <td>BAO_0000190</td>\n",
              "      <td>BAO_0000357</td>\n",
              "      <td>single protein format</td>\n",
              "      <td>CC(C)CCNC(=O)c1nc(C2CCCCN2C)[nH]c(=O)c1O</td>\n",
              "      <td>None</td>\n",
              "      <td>None</td>\n",
              "      <td>CHEMBL3616448</td>\n",
              "      <td>Bioorg. Med. Chem. Lett.</td>\n",
              "      <td>2015</td>\n",
              "      <td>None</td>\n",
              "      <td>CHEMBL3617289</td>\n",
              "      <td>None</td>\n",
              "      <td>CHEMBL3617289</td>\n",
              "      <td>None</td>\n",
              "      <td>False</td>\n",
              "      <td>http://www.openphacts.org/units/Nanomolar</td>\n",
              "      <td>2501693</td>\n",
              "      <td>&gt;</td>\n",
              "      <td>1</td>\n",
              "      <td>True</td>\n",
              "      <td>&gt;</td>\n",
              "      <td>None</td>\n",
              "      <td>IC50</td>\n",
              "      <td>nM</td>\n",
              "      <td>None</td>\n",
              "      <td>100000.0</td>\n",
              "      <td>CHEMBL5027</td>\n",
              "      <td>Homo sapiens</td>\n",
              "      <td>Flap endonuclease 1</td>\n",
              "      <td>9606</td>\n",
              "      <td>None</td>\n",
              "      <td>None</td>\n",
              "      <td>IC50</td>\n",
              "      <td>uM</td>\n",
              "      <td>UO_0000065</td>\n",
              "      <td>None</td>\n",
              "      <td>100.0</td>\n",
              "    </tr>\n",
              "    <tr>\n",
              "      <th>139</th>\n",
              "      <td>None</td>\n",
              "      <td>15726298</td>\n",
              "      <td>[]</td>\n",
              "      <td>CHEMBL3619485</td>\n",
              "      <td>Inhibition of FEN1 (unknown origin)</td>\n",
              "      <td>B</td>\n",
              "      <td>None</td>\n",
              "      <td>None</td>\n",
              "      <td>BAO_0000190</td>\n",
              "      <td>BAO_0000357</td>\n",
              "      <td>single protein format</td>\n",
              "      <td>CC(C)CCNC(=O)c1nc(C2CCCN(C)C2)[nH]c(=O)c1O</td>\n",
              "      <td>None</td>\n",
              "      <td>None</td>\n",
              "      <td>CHEMBL3616448</td>\n",
              "      <td>Bioorg. Med. Chem. Lett.</td>\n",
              "      <td>2015</td>\n",
              "      <td>None</td>\n",
              "      <td>CHEMBL3617290</td>\n",
              "      <td>None</td>\n",
              "      <td>CHEMBL3617290</td>\n",
              "      <td>None</td>\n",
              "      <td>False</td>\n",
              "      <td>http://www.openphacts.org/units/Nanomolar</td>\n",
              "      <td>2501694</td>\n",
              "      <td>&gt;</td>\n",
              "      <td>1</td>\n",
              "      <td>True</td>\n",
              "      <td>&gt;</td>\n",
              "      <td>None</td>\n",
              "      <td>IC50</td>\n",
              "      <td>nM</td>\n",
              "      <td>None</td>\n",
              "      <td>100000.0</td>\n",
              "      <td>CHEMBL5027</td>\n",
              "      <td>Homo sapiens</td>\n",
              "      <td>Flap endonuclease 1</td>\n",
              "      <td>9606</td>\n",
              "      <td>None</td>\n",
              "      <td>None</td>\n",
              "      <td>IC50</td>\n",
              "      <td>uM</td>\n",
              "      <td>UO_0000065</td>\n",
              "      <td>None</td>\n",
              "      <td>100.0</td>\n",
              "    </tr>\n",
              "    <tr>\n",
              "      <th>140</th>\n",
              "      <td>None</td>\n",
              "      <td>15726299</td>\n",
              "      <td>[]</td>\n",
              "      <td>CHEMBL3619485</td>\n",
              "      <td>Inhibition of FEN1 (unknown origin)</td>\n",
              "      <td>B</td>\n",
              "      <td>None</td>\n",
              "      <td>None</td>\n",
              "      <td>BAO_0000190</td>\n",
              "      <td>BAO_0000357</td>\n",
              "      <td>single protein format</td>\n",
              "      <td>CC(C)CCNC(=O)c1nc(C2CCN(C)CC2)[nH]c(=O)c1O</td>\n",
              "      <td>None</td>\n",
              "      <td>None</td>\n",
              "      <td>CHEMBL3616448</td>\n",
              "      <td>Bioorg. Med. Chem. Lett.</td>\n",
              "      <td>2015</td>\n",
              "      <td>None</td>\n",
              "      <td>CHEMBL3617291</td>\n",
              "      <td>None</td>\n",
              "      <td>CHEMBL3617291</td>\n",
              "      <td>None</td>\n",
              "      <td>False</td>\n",
              "      <td>http://www.openphacts.org/units/Nanomolar</td>\n",
              "      <td>2501695</td>\n",
              "      <td>&gt;</td>\n",
              "      <td>1</td>\n",
              "      <td>True</td>\n",
              "      <td>&gt;</td>\n",
              "      <td>None</td>\n",
              "      <td>IC50</td>\n",
              "      <td>nM</td>\n",
              "      <td>None</td>\n",
              "      <td>100000.0</td>\n",
              "      <td>CHEMBL5027</td>\n",
              "      <td>Homo sapiens</td>\n",
              "      <td>Flap endonuclease 1</td>\n",
              "      <td>9606</td>\n",
              "      <td>None</td>\n",
              "      <td>None</td>\n",
              "      <td>IC50</td>\n",
              "      <td>uM</td>\n",
              "      <td>UO_0000065</td>\n",
              "      <td>None</td>\n",
              "      <td>100.0</td>\n",
              "    </tr>\n",
              "    <tr>\n",
              "      <th>141</th>\n",
              "      <td>None</td>\n",
              "      <td>15726300</td>\n",
              "      <td>[]</td>\n",
              "      <td>CHEMBL3619485</td>\n",
              "      <td>Inhibition of FEN1 (unknown origin)</td>\n",
              "      <td>B</td>\n",
              "      <td>None</td>\n",
              "      <td>None</td>\n",
              "      <td>BAO_0000190</td>\n",
              "      <td>BAO_0000357</td>\n",
              "      <td>single protein format</td>\n",
              "      <td>O=C1c2cccc3cccc(c23)C(=O)N1O</td>\n",
              "      <td>None</td>\n",
              "      <td>None</td>\n",
              "      <td>CHEMBL3616448</td>\n",
              "      <td>Bioorg. Med. Chem. Lett.</td>\n",
              "      <td>2015</td>\n",
              "      <td>{'bei': '30.60', 'le': '0.56', 'lle': '4.70', ...</td>\n",
              "      <td>CHEMBL1207029</td>\n",
              "      <td>None</td>\n",
              "      <td>CHEMBL1207029</td>\n",
              "      <td>6.52</td>\n",
              "      <td>False</td>\n",
              "      <td>http://www.openphacts.org/units/Nanomolar</td>\n",
              "      <td>2501696</td>\n",
              "      <td>=</td>\n",
              "      <td>1</td>\n",
              "      <td>True</td>\n",
              "      <td>=</td>\n",
              "      <td>None</td>\n",
              "      <td>IC50</td>\n",
              "      <td>nM</td>\n",
              "      <td>None</td>\n",
              "      <td>300.0</td>\n",
              "      <td>CHEMBL5027</td>\n",
              "      <td>Homo sapiens</td>\n",
              "      <td>Flap endonuclease 1</td>\n",
              "      <td>9606</td>\n",
              "      <td>None</td>\n",
              "      <td>None</td>\n",
              "      <td>IC50</td>\n",
              "      <td>uM</td>\n",
              "      <td>UO_0000065</td>\n",
              "      <td>None</td>\n",
              "      <td>0.3</td>\n",
              "    </tr>\n",
              "    <tr>\n",
              "      <th>142</th>\n",
              "      <td>None</td>\n",
              "      <td>15726301</td>\n",
              "      <td>[]</td>\n",
              "      <td>CHEMBL3619485</td>\n",
              "      <td>Inhibition of FEN1 (unknown origin)</td>\n",
              "      <td>B</td>\n",
              "      <td>None</td>\n",
              "      <td>None</td>\n",
              "      <td>BAO_0000190</td>\n",
              "      <td>BAO_0000357</td>\n",
              "      <td>single protein format</td>\n",
              "      <td>O=C1c2cccc3c(Cl)ccc(c23)C(=O)N1O</td>\n",
              "      <td>None</td>\n",
              "      <td>None</td>\n",
              "      <td>CHEMBL3616448</td>\n",
              "      <td>Bioorg. Med. Chem. Lett.</td>\n",
              "      <td>2015</td>\n",
              "      <td>{'bei': '24.85', 'le': '0.49', 'lle': '3.67', ...</td>\n",
              "      <td>CHEMBL1415852</td>\n",
              "      <td>None</td>\n",
              "      <td>CHEMBL1415852</td>\n",
              "      <td>6.16</td>\n",
              "      <td>False</td>\n",
              "      <td>http://www.openphacts.org/units/Nanomolar</td>\n",
              "      <td>2501697</td>\n",
              "      <td>=</td>\n",
              "      <td>1</td>\n",
              "      <td>True</td>\n",
              "      <td>=</td>\n",
              "      <td>None</td>\n",
              "      <td>IC50</td>\n",
              "      <td>nM</td>\n",
              "      <td>None</td>\n",
              "      <td>700.0</td>\n",
              "      <td>CHEMBL5027</td>\n",
              "      <td>Homo sapiens</td>\n",
              "      <td>Flap endonuclease 1</td>\n",
              "      <td>9606</td>\n",
              "      <td>None</td>\n",
              "      <td>None</td>\n",
              "      <td>IC50</td>\n",
              "      <td>uM</td>\n",
              "      <td>UO_0000065</td>\n",
              "      <td>None</td>\n",
              "      <td>0.7</td>\n",
              "    </tr>\n",
              "  </tbody>\n",
              "</table>\n",
              "<p>134 rows × 45 columns</p>\n",
              "</div>"
            ],
            "text/plain": [
              "    activity_comment  activity_id  ... upper_value  value\n",
              "0               None      1435444  ...        None  0.079\n",
              "1               None      1435446  ...        None  0.014\n",
              "2               None      1435448  ...        None  0.025\n",
              "3               None      1435450  ...        None  0.014\n",
              "4               None      1435452  ...        None  0.009\n",
              "..               ...          ...  ...         ...    ...\n",
              "138             None     15726297  ...        None  100.0\n",
              "139             None     15726298  ...        None  100.0\n",
              "140             None     15726299  ...        None  100.0\n",
              "141             None     15726300  ...        None    0.3\n",
              "142             None     15726301  ...        None    0.7\n",
              "\n",
              "[134 rows x 45 columns]"
            ]
          },
          "metadata": {},
          "execution_count": 163
        }
      ]
    },
    {
      "cell_type": "markdown",
      "metadata": {
        "id": "5H4sSFAWhV9B"
      },
      "source": [
        "## **Data pre-processing of the bioactivity data**"
      ]
    },
    {
      "cell_type": "markdown",
      "metadata": {
        "id": "tO22XVlzhkXR"
      },
      "source": [
        "### **Labeling compounds as either being active, inactive or intermediate**\n",
        "The bioactivity data is in the IC50 unit. Compounds having values of less than 1000 nM will be considered to be **active** while those greater than 10,000 nM will be considered to be **inactive**. As for those values in between 1,000 and 10,000 nM will be referred to as **intermediate**. "
      ]
    },
    {
      "cell_type": "code",
      "metadata": {
        "id": "1E8rz7oMOd-5"
      },
      "source": [
        "bioactivity_class = []\n",
        "for i in df2.standard_value:\n",
        "  if float(i) >= 10000:\n",
        "    bioactivity_class.append(\"inactive\")\n",
        "  elif float(i) <= 1000:\n",
        "    bioactivity_class.append(\"active\")\n",
        "  else:\n",
        "    bioactivity_class.append(\"intermediate\")"
      ],
      "execution_count": null,
      "outputs": []
    },
    {
      "cell_type": "markdown",
      "metadata": {
        "id": "PFsmb2N9hnTB"
      },
      "source": [
        "### **Iterate the *molecule_chembl_id* to a list**"
      ]
    },
    {
      "cell_type": "code",
      "metadata": {
        "id": "DMJng9xnVnMM"
      },
      "source": [
        "mol_cid = []\n",
        "for i in df2.molecule_chembl_id:\n",
        "  mol_cid.append(i)"
      ],
      "execution_count": null,
      "outputs": []
    },
    {
      "cell_type": "markdown",
      "metadata": {
        "id": "YRieJc9dhuVZ"
      },
      "source": [
        "### **Iterate *canonical_smiles* to a list**"
      ]
    },
    {
      "cell_type": "code",
      "metadata": {
        "id": "AT8qUBk1eVmj"
      },
      "source": [
        "canonical_smiles = []\n",
        "for i in df2.canonical_smiles:\n",
        "  canonical_smiles.append(i)"
      ],
      "execution_count": null,
      "outputs": []
    },
    {
      "cell_type": "markdown",
      "metadata": {
        "id": "DZFugUXxhwjE"
      },
      "source": [
        "### **Iterate *standard_value* to a list**"
      ]
    },
    {
      "cell_type": "code",
      "metadata": {
        "id": "ZaPt-FjEZNBe"
      },
      "source": [
        "standard_value = []\n",
        "for i in df2.standard_value:\n",
        "  standard_value.append(i)"
      ],
      "execution_count": null,
      "outputs": []
    },
    {
      "cell_type": "markdown",
      "metadata": {
        "id": "Nv2dzid_hzKd"
      },
      "source": [
        "### **Combine the 4 lists into a dataframe**"
      ]
    },
    {
      "cell_type": "code",
      "metadata": {
        "id": "TWlYO4I3Wrh-"
      },
      "source": [
        "data_tuples = list(zip(mol_cid, canonical_smiles, bioactivity_class, standard_value))\n",
        "df3 = pd.DataFrame( data_tuples,  columns=['molecule_chembl_id', 'canonical_smiles', 'bioactivity_class', 'standard_value'])"
      ],
      "execution_count": null,
      "outputs": []
    },
    {
      "cell_type": "code",
      "metadata": {
        "colab": {
          "base_uri": "https://localhost:8080/",
          "height": 419
        },
        "id": "Li64nUiZQ-y2",
        "outputId": "d5fb6b31-290d-4e63-e9ef-9cb7dbe51997"
      },
      "source": [
        "df3"
      ],
      "execution_count": null,
      "outputs": [
        {
          "output_type": "execute_result",
          "data": {
            "text/html": [
              "<div>\n",
              "<style scoped>\n",
              "    .dataframe tbody tr th:only-of-type {\n",
              "        vertical-align: middle;\n",
              "    }\n",
              "\n",
              "    .dataframe tbody tr th {\n",
              "        vertical-align: top;\n",
              "    }\n",
              "\n",
              "    .dataframe thead th {\n",
              "        text-align: right;\n",
              "    }\n",
              "</style>\n",
              "<table border=\"1\" class=\"dataframe\">\n",
              "  <thead>\n",
              "    <tr style=\"text-align: right;\">\n",
              "      <th></th>\n",
              "      <th>molecule_chembl_id</th>\n",
              "      <th>canonical_smiles</th>\n",
              "      <th>bioactivity_class</th>\n",
              "      <th>standard_value</th>\n",
              "    </tr>\n",
              "  </thead>\n",
              "  <tbody>\n",
              "    <tr>\n",
              "      <th>0</th>\n",
              "      <td>CHEMBL183852</td>\n",
              "      <td>O=c1[nH]c2ccccc2c(=O)n1O</td>\n",
              "      <td>active</td>\n",
              "      <td>0.079</td>\n",
              "    </tr>\n",
              "    <tr>\n",
              "      <th>1</th>\n",
              "      <td>CHEMBL182687</td>\n",
              "      <td>O=c1[nH]c2cccc(Cl)c2c(=O)n1O</td>\n",
              "      <td>active</td>\n",
              "      <td>0.014</td>\n",
              "    </tr>\n",
              "    <tr>\n",
              "      <th>2</th>\n",
              "      <td>CHEMBL361350</td>\n",
              "      <td>O=c1[nH]c2sccc2c(=O)n1O</td>\n",
              "      <td>active</td>\n",
              "      <td>0.025</td>\n",
              "    </tr>\n",
              "    <tr>\n",
              "      <th>3</th>\n",
              "      <td>CHEMBL183792</td>\n",
              "      <td>Cc1csc2[nH]c(=O)n(O)c(=O)c12</td>\n",
              "      <td>active</td>\n",
              "      <td>0.014</td>\n",
              "    </tr>\n",
              "    <tr>\n",
              "      <th>4</th>\n",
              "      <td>CHEMBL362842</td>\n",
              "      <td>O=c1[nH]c2sc3c(c2c(=O)n1O)CCCC3</td>\n",
              "      <td>active</td>\n",
              "      <td>0.009</td>\n",
              "    </tr>\n",
              "    <tr>\n",
              "      <th>...</th>\n",
              "      <td>...</td>\n",
              "      <td>...</td>\n",
              "      <td>...</td>\n",
              "      <td>...</td>\n",
              "    </tr>\n",
              "    <tr>\n",
              "      <th>129</th>\n",
              "      <td>CHEMBL3617289</td>\n",
              "      <td>CC(C)CCNC(=O)c1nc(C2CCCCN2C)[nH]c(=O)c1O</td>\n",
              "      <td>inactive</td>\n",
              "      <td>100000.0</td>\n",
              "    </tr>\n",
              "    <tr>\n",
              "      <th>130</th>\n",
              "      <td>CHEMBL3617290</td>\n",
              "      <td>CC(C)CCNC(=O)c1nc(C2CCCN(C)C2)[nH]c(=O)c1O</td>\n",
              "      <td>inactive</td>\n",
              "      <td>100000.0</td>\n",
              "    </tr>\n",
              "    <tr>\n",
              "      <th>131</th>\n",
              "      <td>CHEMBL3617291</td>\n",
              "      <td>CC(C)CCNC(=O)c1nc(C2CCN(C)CC2)[nH]c(=O)c1O</td>\n",
              "      <td>inactive</td>\n",
              "      <td>100000.0</td>\n",
              "    </tr>\n",
              "    <tr>\n",
              "      <th>132</th>\n",
              "      <td>CHEMBL1207029</td>\n",
              "      <td>O=C1c2cccc3cccc(c23)C(=O)N1O</td>\n",
              "      <td>active</td>\n",
              "      <td>300.0</td>\n",
              "    </tr>\n",
              "    <tr>\n",
              "      <th>133</th>\n",
              "      <td>CHEMBL1415852</td>\n",
              "      <td>O=C1c2cccc3c(Cl)ccc(c23)C(=O)N1O</td>\n",
              "      <td>active</td>\n",
              "      <td>700.0</td>\n",
              "    </tr>\n",
              "  </tbody>\n",
              "</table>\n",
              "<p>134 rows × 4 columns</p>\n",
              "</div>"
            ],
            "text/plain": [
              "    molecule_chembl_id  ... standard_value\n",
              "0         CHEMBL183852  ...          0.079\n",
              "1         CHEMBL182687  ...          0.014\n",
              "2         CHEMBL361350  ...          0.025\n",
              "3         CHEMBL183792  ...          0.014\n",
              "4         CHEMBL362842  ...          0.009\n",
              "..                 ...  ...            ...\n",
              "129      CHEMBL3617289  ...       100000.0\n",
              "130      CHEMBL3617290  ...       100000.0\n",
              "131      CHEMBL3617291  ...       100000.0\n",
              "132      CHEMBL1207029  ...          300.0\n",
              "133      CHEMBL1415852  ...          700.0\n",
              "\n",
              "[134 rows x 4 columns]"
            ]
          },
          "metadata": {},
          "execution_count": 169
        }
      ]
    },
    {
      "cell_type": "markdown",
      "metadata": {
        "id": "vE0Vvo6ic3MI"
      },
      "source": [
        "### **Alternative method**"
      ]
    },
    {
      "cell_type": "code",
      "metadata": {
        "colab": {
          "base_uri": "https://localhost:8080/",
          "height": 419
        },
        "id": "VICiiCtqc2ne",
        "outputId": "41bd7492-c667-4dd5-bd53-cdc2361a4bdf"
      },
      "source": [
        "selection = ['molecule_chembl_id', 'canonical_smiles', 'standard_value']\n",
        "df3 = df2[selection]\n",
        "df3"
      ],
      "execution_count": null,
      "outputs": [
        {
          "data": {
            "text/html": [
              "<div>\n",
              "<style scoped>\n",
              "    .dataframe tbody tr th:only-of-type {\n",
              "        vertical-align: middle;\n",
              "    }\n",
              "\n",
              "    .dataframe tbody tr th {\n",
              "        vertical-align: top;\n",
              "    }\n",
              "\n",
              "    .dataframe thead th {\n",
              "        text-align: right;\n",
              "    }\n",
              "</style>\n",
              "<table border=\"1\" class=\"dataframe\">\n",
              "  <thead>\n",
              "    <tr style=\"text-align: right;\">\n",
              "      <th></th>\n",
              "      <th>molecule_chembl_id</th>\n",
              "      <th>canonical_smiles</th>\n",
              "      <th>standard_value</th>\n",
              "    </tr>\n",
              "  </thead>\n",
              "  <tbody>\n",
              "    <tr>\n",
              "      <th>0</th>\n",
              "      <td>CHEMBL105460</td>\n",
              "      <td>C=CCN(C(=O)OCc1ccc([N+](=O)[O-])cc1)C1CCN(CCC(...</td>\n",
              "      <td>335.0</td>\n",
              "    </tr>\n",
              "    <tr>\n",
              "      <th>1</th>\n",
              "      <td>CHEMBL105606</td>\n",
              "      <td>C=CCN(C(=O)OCc1ccc([N+](=O)[O-])cc1)C1CCN(CCC(...</td>\n",
              "      <td>28.0</td>\n",
              "    </tr>\n",
              "    <tr>\n",
              "      <th>2</th>\n",
              "      <td>CHEMBL105570</td>\n",
              "      <td>C=CCN(C(=O)OCc1ccc([N+](=O)[O-])cc1)C1CCN(CCC(...</td>\n",
              "      <td>10.0</td>\n",
              "    </tr>\n",
              "    <tr>\n",
              "      <th>3</th>\n",
              "      <td>CHEMBL83338</td>\n",
              "      <td>CN(C[C@@H](CCN1CCC2(CC1)C[S+]([O-])c1ccccc12)c...</td>\n",
              "      <td>35.0</td>\n",
              "    </tr>\n",
              "    <tr>\n",
              "      <th>4</th>\n",
              "      <td>CHEMBL325357</td>\n",
              "      <td>C=CCN(C(=O)OCc1ccc([N+](=O)[O-])cc1)C1CCN(CCC(...</td>\n",
              "      <td>15.0</td>\n",
              "    </tr>\n",
              "    <tr>\n",
              "      <th>...</th>\n",
              "      <td>...</td>\n",
              "      <td>...</td>\n",
              "      <td>...</td>\n",
              "    </tr>\n",
              "    <tr>\n",
              "      <th>3835</th>\n",
              "      <td>CHEMBL4465351</td>\n",
              "      <td>CC(C)N(C)[C@@H]1CC[C@H](N2CC[C@H](NC(=O)c3cccc...</td>\n",
              "      <td>1570.0</td>\n",
              "    </tr>\n",
              "    <tr>\n",
              "      <th>3836</th>\n",
              "      <td>CHEMBL3577945</td>\n",
              "      <td>CCC[C@@H]1C[C@H](N(C)C(C)C)CC[C@@H]1N1CC[C@H](...</td>\n",
              "      <td>2.4</td>\n",
              "    </tr>\n",
              "    <tr>\n",
              "      <th>3837</th>\n",
              "      <td>CHEMBL4470701</td>\n",
              "      <td>CC(C)N(C)[C@@H]1CC[C@H](N2CC[C@H](Nc3ncnc4ccc(...</td>\n",
              "      <td>190.0</td>\n",
              "    </tr>\n",
              "    <tr>\n",
              "      <th>3838</th>\n",
              "      <td>CHEMBL4457723</td>\n",
              "      <td>CC(C)N(C)[C@@H]1CC[C@H](N2CC[C@H](Nc3ncnc4ccc(...</td>\n",
              "      <td>287.0</td>\n",
              "    </tr>\n",
              "    <tr>\n",
              "      <th>3839</th>\n",
              "      <td>CHEMBL4442783</td>\n",
              "      <td>CC(=O)N[C@@H]1C[C@H](N(C)C(C)C)CC[C@@H]1N1CC[C...</td>\n",
              "      <td>780.0</td>\n",
              "    </tr>\n",
              "  </tbody>\n",
              "</table>\n",
              "<p>2902 rows × 3 columns</p>\n",
              "</div>"
            ],
            "text/plain": [
              "     molecule_chembl_id  ... standard_value\n",
              "0          CHEMBL105460  ...          335.0\n",
              "1          CHEMBL105606  ...           28.0\n",
              "2          CHEMBL105570  ...           10.0\n",
              "3           CHEMBL83338  ...           35.0\n",
              "4          CHEMBL325357  ...           15.0\n",
              "...                 ...  ...            ...\n",
              "3835      CHEMBL4465351  ...         1570.0\n",
              "3836      CHEMBL3577945  ...            2.4\n",
              "3837      CHEMBL4470701  ...          190.0\n",
              "3838      CHEMBL4457723  ...          287.0\n",
              "3839      CHEMBL4442783  ...          780.0\n",
              "\n",
              "[2902 rows x 3 columns]"
            ]
          },
          "execution_count": 141,
          "metadata": {},
          "output_type": "execute_result"
        }
      ]
    },
    {
      "cell_type": "code",
      "metadata": {
        "colab": {
          "base_uri": "https://localhost:8080/",
          "height": 164
        },
        "id": "d8nV77oWdbq1",
        "outputId": "c0e0725f-da2c-43e7-a79a-de105bc41593"
      },
      "source": [
        "pd.concat([df3,pd.Series(bioactivity_class)], axis=1)"
      ],
      "execution_count": null,
      "outputs": [
        {
          "ename": "NameError",
          "evalue": "ignored",
          "output_type": "error",
          "traceback": [
            "\u001b[0;31m---------------------------------------------------------------------------\u001b[0m",
            "\u001b[0;31mNameError\u001b[0m                                 Traceback (most recent call last)",
            "\u001b[0;32m<ipython-input-1-7ca3cac64e08>\u001b[0m in \u001b[0;36m<module>\u001b[0;34m()\u001b[0m\n\u001b[0;32m----> 1\u001b[0;31m \u001b[0mpd\u001b[0m\u001b[0;34m.\u001b[0m\u001b[0mconcat\u001b[0m\u001b[0;34m(\u001b[0m\u001b[0;34m[\u001b[0m\u001b[0mdf3\u001b[0m\u001b[0;34m,\u001b[0m\u001b[0mpd\u001b[0m\u001b[0;34m.\u001b[0m\u001b[0mSeries\u001b[0m\u001b[0;34m(\u001b[0m\u001b[0mbioactivity_class\u001b[0m\u001b[0;34m)\u001b[0m\u001b[0;34m]\u001b[0m\u001b[0;34m,\u001b[0m \u001b[0maxis\u001b[0m\u001b[0;34m=\u001b[0m\u001b[0;36m1\u001b[0m\u001b[0;34m)\u001b[0m\u001b[0;34m\u001b[0m\u001b[0;34m\u001b[0m\u001b[0m\n\u001b[0m",
            "\u001b[0;31mNameError\u001b[0m: name 'pd' is not defined"
          ]
        }
      ]
    },
    {
      "cell_type": "markdown",
      "metadata": {
        "id": "9tlgyexWh7YJ"
      },
      "source": [
        "Saves dataframe to CSV file"
      ]
    },
    {
      "cell_type": "code",
      "metadata": {
        "id": "nSNia7suXstR"
      },
      "source": [
        "df3.to_csv('bioactivity_preprocessed_data_spem1.csv', index=False)"
      ],
      "execution_count": null,
      "outputs": []
    },
    {
      "cell_type": "code",
      "metadata": {
        "colab": {
          "base_uri": "https://localhost:8080/"
        },
        "id": "UuZf5-MEd-H5",
        "outputId": "c17e65dd-ea66-4794-f367-94e95a863499"
      },
      "source": [
        "! ls -l"
      ],
      "execution_count": null,
      "outputs": [
        {
          "output_type": "stream",
          "name": "stdout",
          "text": [
            "total 108\n",
            "-rw-r--r-- 1 root root 10451 Oct 16 20:12  bioactivity_data_GP.csv\n",
            "-rw-r--r-- 1 root root 63177 Oct 16 22:36  bioactivity_data_spem1.csv\n",
            "-rw-r--r-- 1 root root  2729 Oct 16 20:17  bioactivity_preprocessed_data_GP.csv\n",
            "-rw-r--r-- 1 root root  8953 Oct 16 22:38  bioactivity_preprocessed_data_spem1.csv\n",
            "-rw-r--r-- 1 root root   530 Oct 16 21:33 'DOWNLOAD-yFswpt0tiAV2JGBSOyl1cfKNSD8ZdC8Xhmr12JTzrWs=.csv'\n",
            "-rw-r--r-- 1 root root   530 Oct 16 21:40 'DOWNLOAD-yFswpt0tiAV2JGBSOyl1cfKNSD8ZdC8Xhmr12JTzrWs=.csv.1'\n",
            "drwx------ 5 root root  4096 Oct 16 22:36  gdrive\n",
            "drwxr-xr-x 1 root root  4096 Oct  8 13:45  sample_data\n"
          ]
        }
      ]
    },
    {
      "cell_type": "markdown",
      "metadata": {
        "id": "_C7rqJKTePhV"
      },
      "source": [
        "Let's copy to the Google Drive"
      ]
    },
    {
      "cell_type": "code",
      "metadata": {
        "id": "ZfyvJcENeHDB"
      },
      "source": [
        "! cp bioactivity_preprocessed_data_spem1.csv \"/content/gdrive/My Drive/Colab Notebooks/databirthcontrol\""
      ],
      "execution_count": null,
      "outputs": []
    },
    {
      "cell_type": "code",
      "metadata": {
        "colab": {
          "base_uri": "https://localhost:8080/"
        },
        "id": "7PU7yU9leLV5",
        "outputId": "db9d8766-ae78-460f-ae3b-59110a5751b9"
      },
      "source": [
        "! ls \"/content/gdrive/My Drive/Colab Notebooks/databirthcontrol\""
      ],
      "execution_count": null,
      "outputs": [
        {
          "output_type": "stream",
          "name": "stdout",
          "text": [
            "bioactivity_data_GP.csv     bioactivity_preprocessed_data_GP.csv\n",
            "bioactivity_data_spem1.csv  bioactivity_preprocessed_data_spem1.csv\n"
          ]
        }
      ]
    },
    {
      "cell_type": "markdown",
      "metadata": {
        "id": "ZywB5K_Dlawb"
      },
      "source": [
        "---"
      ]
    }
  ]
}