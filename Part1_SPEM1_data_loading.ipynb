{
  "nbformat": 4,
  "nbformat_minor": 0,
  "metadata": {
    "colab": {
      "name": "Part1: SPEM1 data loading",
      "provenance": [],
      "collapsed_sections": [],
      "include_colab_link": true
    },
    "kernelspec": {
      "display_name": "Python 3",
      "name": "python3"
    }
  },
  "cells": [
    {
      "cell_type": "markdown",
      "metadata": {
        "id": "view-in-github",
        "colab_type": "text"
      },
      "source": [
        "<a href=\"https://colab.research.google.com/github/dibdin/malebirthcontrol/blob/main/Part1_SPEM1_data_loading.ipynb\" target=\"_parent\"><img src=\"https://colab.research.google.com/assets/colab-badge.svg\" alt=\"Open In Colab\"/></a>"
      ]
    },
    {
      "cell_type": "markdown",
      "metadata": {
        "id": "wSFbIMb87cHu"
      },
      "source": [
        "# **Computational Drug Discovery [Part 1] Download Bioactivity Data**\n",
        "\n",
        "Original code credit: Chanin Nantasenamat\n",
        "\n",
        "[*'Data Professor' YouTube channel*](http://youtube.com/dataprofessor)\n",
        "\n",
        "\n",
        "---"
      ]
    },
    {
      "cell_type": "markdown",
      "metadata": {
        "id": "3iQiERxumDor"
      },
      "source": [
        "## **ChEMBL Database**\n",
        "\n",
        "The [*ChEMBL Database*](https://www.ebi.ac.uk/chembl/) is a database that contains curated bioactivity data of more than 2 million compounds. It is compiled from more than 76,000 documents, 1.2 million assays and the data spans 13,000 targets and 1,800 cells and 33,000 indications.\n",
        "[Data as of March 25, 2020; ChEMBL version 26]."
      ]
    },
    {
      "cell_type": "markdown",
      "metadata": {
        "id": "iryGAwAIQ4yf"
      },
      "source": [
        "## **Installing libraries**"
      ]
    },
    {
      "cell_type": "markdown",
      "metadata": {
        "id": "toGT1U_B7F2i"
      },
      "source": [
        "Install the ChEMBL web service package so that we can retrieve bioactivity data from the ChEMBL Database."
      ]
    },
    {
      "cell_type": "code",
      "metadata": {
        "colab": {
          "background_save": true
        },
        "id": "cJGExHQBfLh7"
      },
      "source": [
        "! pip install chembl_webresource_client"
      ],
      "execution_count": null,
      "outputs": []
    },
    {
      "cell_type": "markdown",
      "metadata": {
        "id": "J0kJjL8gb5nX"
      },
      "source": [
        "## **Importing libraries**"
      ]
    },
    {
      "cell_type": "code",
      "metadata": {
        "id": "RXoCvMPPfNrv"
      },
      "source": [
        "# Import necessary libraries\n",
        "import pandas as pd\n",
        "from chembl_webresource_client.new_client import new_client"
      ],
      "execution_count": null,
      "outputs": []
    },
    {
      "cell_type": "markdown",
      "metadata": {
        "id": "1FgUai1bfigC"
      },
      "source": [
        "## **Search for Target protein**"
      ]
    },
    {
      "cell_type": "markdown",
      "metadata": {
        "id": "7lBsDrD0gAqH"
      },
      "source": [
        "### **Target search for SPEM1**"
      ]
    },
    {
      "cell_type": "code",
      "metadata": {
        "id": "Vxtp79so4ZjF"
      },
      "source": [
        "# Target search for SPEM1\n",
        "target = new_client.target\n",
        "target_query = target.search('spermatid maturation protein 1')\n",
        "targets = pd.DataFrame.from_dict(target_query)\n",
        "targets"
      ],
      "execution_count": null,
      "outputs": []
    },
    {
      "cell_type": "markdown",
      "metadata": {
        "id": "Y5OPfEALjAfZ"
      },
      "source": [
        "### **Select and retrieve bioactivity data for *SPEM1* \n"
      ]
    },
    {
      "cell_type": "markdown",
      "metadata": {
        "id": "gSQ3aroOgML7"
      },
      "source": [
        "We will assign the the target protein, *SPEM1* to the ***selected_target*** variable "
      ]
    },
    {
      "cell_type": "code",
      "metadata": {
        "id": "StrcHMVLha7u"
      },
      "source": [
        "selected_target = targets.target_chembl_id[2]\n",
        "selected_target"
      ],
      "execution_count": null,
      "outputs": []
    },
    {
      "cell_type": "code",
      "metadata": {
        "id": "LeFbV_CsSP8D"
      },
      "source": [
        "activity = new_client.activity\n",
        "res = activity.filter(target_chembl_id=selected_target).filter(standard_type=\"IC50\")"
      ],
      "execution_count": null,
      "outputs": []
    },
    {
      "cell_type": "code",
      "metadata": {
        "id": "RC4T-NEmSWV-"
      },
      "source": [
        "df = pd.DataFrame.from_dict(res)"
      ],
      "execution_count": null,
      "outputs": []
    },
    {
      "cell_type": "code",
      "metadata": {
        "id": "s9iUAXFdSkoM"
      },
      "source": [
        "df.head(3)"
      ],
      "execution_count": null,
      "outputs": []
    },
    {
      "cell_type": "code",
      "metadata": {
        "id": "oNtBv36dYhxy"
      },
      "source": [
        "df.standard_type.unique()"
      ],
      "execution_count": null,
      "outputs": []
    },
    {
      "cell_type": "markdown",
      "metadata": {
        "id": "fQ78N26Fg15T"
      },
      "source": [
        "Finally we will save the resulting bioactivity data to a CSV file **bioactivity_data_spem1.csv**."
      ]
    },
    {
      "cell_type": "code",
      "metadata": {
        "id": "ZvUUEIVxTOH1"
      },
      "source": [
        "df.to_csv('bioactivity_data_spem1.csv', index=False)"
      ],
      "execution_count": null,
      "outputs": []
    },
    {
      "cell_type": "markdown",
      "metadata": {
        "id": "BOrSrTGjOWU7"
      },
      "source": [
        "## **Copying files to Google Drive**"
      ]
    },
    {
      "cell_type": "markdown",
      "metadata": {
        "id": "PRputWaI7ZW7"
      },
      "source": [
        "Firstly, we need to mount the Google Drive into Colab so that we can have access to our Google adrive from within Colab."
      ]
    },
    {
      "cell_type": "code",
      "metadata": {
        "id": "6RBX658q65A5"
      },
      "source": [
        "from google.colab import drive\n",
        "drive.mount('/content/gdrive/', force_remount=True)\n"
      ],
      "execution_count": null,
      "outputs": []
    },
    {
      "cell_type": "markdown",
      "metadata": {
        "id": "CMlY0xudN1mL"
      },
      "source": [
        "Next, we create a **data** folder in our **Colab Notebooks** folder on Google Drive."
      ]
    },
    {
      "cell_type": "code",
      "metadata": {
        "id": "tew-UtUWIS__"
      },
      "source": [
        "! mkdir \"/content/gdrive/My Drive/Colab Notebooks/databirthcontrol\""
      ],
      "execution_count": null,
      "outputs": []
    },
    {
      "cell_type": "code",
      "metadata": {
        "id": "YDMBpK2XJ_rJ"
      },
      "source": [
        "! cp bioactivity_data_spem1.csv \"/content/gdrive/My Drive/Colab Notebooks/databirthcontrol\""
      ],
      "execution_count": null,
      "outputs": []
    },
    {
      "cell_type": "code",
      "metadata": {
        "id": "iRIr1QiEJtuw"
      },
      "source": [
        "! ls -l \"/content/gdrive/My Drive/Colab Notebooks/databirthcontrol\""
      ],
      "execution_count": null,
      "outputs": []
    },
    {
      "cell_type": "markdown",
      "metadata": {
        "id": "z9NwrYJni8CH"
      },
      "source": [
        "Let's see the CSV files that we have so far."
      ]
    },
    {
      "cell_type": "code",
      "metadata": {
        "id": "FO3cZC5vnCht"
      },
      "source": [
        "! ls"
      ],
      "execution_count": null,
      "outputs": []
    },
    {
      "cell_type": "markdown",
      "metadata": {
        "id": "7UAasSu5jAeB"
      },
      "source": [
        "Taking a glimpse of the **bioactivity_data_spem1.csv** file that we've just created."
      ]
    },
    {
      "cell_type": "code",
      "metadata": {
        "id": "jwEJjx5b5gAn"
      },
      "source": [
        "! head bioactivity_data_spem1.csv"
      ],
      "execution_count": null,
      "outputs": []
    },
    {
      "cell_type": "markdown",
      "metadata": {
        "id": "_GXMpFNUOn_8"
      },
      "source": [
        "## **Handling missing data**\n",
        "If any compounds has missing value for the **standard_value** column then drop it"
      ]
    },
    {
      "cell_type": "code",
      "metadata": {
        "id": "hkVOdk6ZR396"
      },
      "source": [
        "df2 = df[df.standard_value.notna()]\n",
        "df2"
      ],
      "execution_count": null,
      "outputs": []
    },
    {
      "cell_type": "markdown",
      "metadata": {
        "id": "5H4sSFAWhV9B"
      },
      "source": [
        "## **Data pre-processing of the bioactivity data**"
      ]
    },
    {
      "cell_type": "markdown",
      "metadata": {
        "id": "tO22XVlzhkXR"
      },
      "source": [
        "### **Labeling compounds as either being active, inactive or intermediate**\n",
        "The bioactivity data is in the IC50 unit. Compounds having values of less than 1000 nM will be considered to be **active** while those greater than 10,000 nM will be considered to be **inactive**. As for those values in between 1,000 and 10,000 nM will be referred to as **intermediate**. "
      ]
    },
    {
      "cell_type": "code",
      "metadata": {
        "id": "1E8rz7oMOd-5"
      },
      "source": [
        "bioactivity_class = []\n",
        "for i in df2.standard_value:\n",
        "  if float(i) >= 10000:\n",
        "    bioactivity_class.append(\"inactive\")\n",
        "  elif float(i) <= 1000:\n",
        "    bioactivity_class.append(\"active\")\n",
        "  else:\n",
        "    bioactivity_class.append(\"intermediate\")"
      ],
      "execution_count": null,
      "outputs": []
    },
    {
      "cell_type": "markdown",
      "metadata": {
        "id": "PFsmb2N9hnTB"
      },
      "source": [
        "### **Iterate the *molecule_chembl_id* to a list**"
      ]
    },
    {
      "cell_type": "code",
      "metadata": {
        "id": "DMJng9xnVnMM"
      },
      "source": [
        "mol_cid = []\n",
        "for i in df2.molecule_chembl_id:\n",
        "  mol_cid.append(i)"
      ],
      "execution_count": null,
      "outputs": []
    },
    {
      "cell_type": "markdown",
      "metadata": {
        "id": "YRieJc9dhuVZ"
      },
      "source": [
        "### **Iterate *canonical_smiles* to a list**"
      ]
    },
    {
      "cell_type": "code",
      "metadata": {
        "id": "AT8qUBk1eVmj"
      },
      "source": [
        "canonical_smiles = []\n",
        "for i in df2.canonical_smiles:\n",
        "  canonical_smiles.append(i)"
      ],
      "execution_count": null,
      "outputs": []
    },
    {
      "cell_type": "markdown",
      "metadata": {
        "id": "DZFugUXxhwjE"
      },
      "source": [
        "### **Iterate *standard_value* to a list**"
      ]
    },
    {
      "cell_type": "code",
      "metadata": {
        "id": "ZaPt-FjEZNBe"
      },
      "source": [
        "standard_value = []\n",
        "for i in df2.standard_value:\n",
        "  standard_value.append(i)"
      ],
      "execution_count": null,
      "outputs": []
    },
    {
      "cell_type": "markdown",
      "metadata": {
        "id": "Nv2dzid_hzKd"
      },
      "source": [
        "### **Combine the 4 lists into a dataframe**"
      ]
    },
    {
      "cell_type": "code",
      "metadata": {
        "id": "TWlYO4I3Wrh-"
      },
      "source": [
        "data_tuples = list(zip(mol_cid, canonical_smiles, bioactivity_class, standard_value))\n",
        "df3 = pd.DataFrame( data_tuples,  columns=['molecule_chembl_id', 'canonical_smiles', 'bioactivity_class', 'standard_value'])"
      ],
      "execution_count": null,
      "outputs": []
    },
    {
      "cell_type": "code",
      "metadata": {
        "id": "Li64nUiZQ-y2"
      },
      "source": [
        "df3"
      ],
      "execution_count": null,
      "outputs": []
    },
    {
      "cell_type": "markdown",
      "metadata": {
        "id": "vE0Vvo6ic3MI"
      },
      "source": [
        "### **Alternative method**"
      ]
    },
    {
      "cell_type": "code",
      "metadata": {
        "id": "VICiiCtqc2ne"
      },
      "source": [
        "selection = ['molecule_chembl_id', 'canonical_smiles', 'standard_value']\n",
        "df3 = df2[selection]\n",
        "df3"
      ],
      "execution_count": null,
      "outputs": []
    },
    {
      "cell_type": "code",
      "metadata": {
        "id": "d8nV77oWdbq1"
      },
      "source": [
        "pd.concat([df3,pd.Series(bioactivity_class)], axis=1)"
      ],
      "execution_count": null,
      "outputs": []
    },
    {
      "cell_type": "markdown",
      "metadata": {
        "id": "9tlgyexWh7YJ"
      },
      "source": [
        "Saves dataframe to CSV file"
      ]
    },
    {
      "cell_type": "code",
      "metadata": {
        "id": "nSNia7suXstR"
      },
      "source": [
        "df3.to_csv('bioactivity_preprocessed_data_spem1.csv', index=False)"
      ],
      "execution_count": null,
      "outputs": []
    },
    {
      "cell_type": "code",
      "metadata": {
        "id": "UuZf5-MEd-H5"
      },
      "source": [
        "! ls -l"
      ],
      "execution_count": null,
      "outputs": []
    },
    {
      "cell_type": "markdown",
      "metadata": {
        "id": "_C7rqJKTePhV"
      },
      "source": [
        "Let's copy to the Google Drive"
      ]
    },
    {
      "cell_type": "code",
      "metadata": {
        "id": "ZfyvJcENeHDB"
      },
      "source": [
        "! cp bioactivity_preprocessed_data_spem1.csv \"/content/gdrive/My Drive/Colab Notebooks/databirthcontrol\""
      ],
      "execution_count": null,
      "outputs": []
    },
    {
      "cell_type": "code",
      "metadata": {
        "id": "7PU7yU9leLV5"
      },
      "source": [
        "! ls \"/content/gdrive/My Drive/Colab Notebooks/databirthcontrol\""
      ],
      "execution_count": null,
      "outputs": []
    },
    {
      "cell_type": "markdown",
      "metadata": {
        "id": "ZywB5K_Dlawb"
      },
      "source": [
        "---"
      ]
    }
  ]
}